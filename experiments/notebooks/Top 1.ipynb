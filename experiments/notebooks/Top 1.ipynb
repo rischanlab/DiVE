{
 "cells": [
  {
   "cell_type": "code",
   "execution_count": 1,
   "metadata": {},
   "outputs": [
    {
     "data": {
      "text/html": [
       "<div>\n",
       "<style>\n",
       "    .dataframe thead tr:only-child th {\n",
       "        text-align: right;\n",
       "    }\n",
       "\n",
       "    .dataframe thead th {\n",
       "        text-align: left;\n",
       "    }\n",
       "\n",
       "    .dataframe tbody tr th {\n",
       "        vertical-align: top;\n",
       "    }\n",
       "</style>\n",
       "<table border=\"1\" class=\"dataframe\">\n",
       "  <thead>\n",
       "    <tr style=\"text-align: right;\">\n",
       "      <th></th>\n",
       "      <th>Attributes</th>\n",
       "      <th>Meassure</th>\n",
       "      <th>Function</th>\n",
       "      <th>Utility</th>\n",
       "    </tr>\n",
       "  </thead>\n",
       "  <tbody>\n",
       "    <tr>\n",
       "      <th>0</th>\n",
       "      <td>carrier</td>\n",
       "      <td>arrivaldelay</td>\n",
       "      <td>SUM</td>\n",
       "      <td>0.367909</td>\n",
       "    </tr>\n",
       "    <tr>\n",
       "      <th>1</th>\n",
       "      <td>carrier</td>\n",
       "      <td>arrivaldelay</td>\n",
       "      <td>AVG</td>\n",
       "      <td>0.264677</td>\n",
       "    </tr>\n",
       "    <tr>\n",
       "      <th>2</th>\n",
       "      <td>carrier</td>\n",
       "      <td>arrivaldelay</td>\n",
       "      <td>MIN</td>\n",
       "      <td>0.249658</td>\n",
       "    </tr>\n",
       "    <tr>\n",
       "      <th>3</th>\n",
       "      <td>carrier</td>\n",
       "      <td>arrivaldelay</td>\n",
       "      <td>MAX</td>\n",
       "      <td>0.197416</td>\n",
       "    </tr>\n",
       "    <tr>\n",
       "      <th>4</th>\n",
       "      <td>carrier</td>\n",
       "      <td>arrivaldelay</td>\n",
       "      <td>STD</td>\n",
       "      <td>0.158475</td>\n",
       "    </tr>\n",
       "  </tbody>\n",
       "</table>\n",
       "</div>"
      ],
      "text/plain": [
       "  Attributes      Meassure Function   Utility\n",
       "0    carrier  arrivaldelay      SUM  0.367909\n",
       "1    carrier  arrivaldelay      AVG  0.264677\n",
       "2    carrier  arrivaldelay      MIN  0.249658\n",
       "3    carrier  arrivaldelay      MAX  0.197416\n",
       "4    carrier  arrivaldelay      STD  0.158475"
      ]
     },
     "execution_count": 1,
     "metadata": {},
     "output_type": "execute_result"
    }
   ],
   "source": [
    "# import libraries\n",
    "import pandas as pd \n",
    "import itertools\n",
    "from itertools import product\n",
    "import numpy as np\n",
    "from itertools import combinations\n",
    "from operator import itemgetter\n",
    "\n",
    "A= ['carrier', 'origin', 'destination'] \n",
    "M= ['arrivaldelay', 'departurdelay', 'weatherdelay']\n",
    "F= ['SUM', 'AVG', 'MIN', 'MAX', 'STD']\n",
    "\n",
    "df = pd.DataFrame(list(product(A,M,F)), columns=['Attributes', 'Meassure', 'Function'])\n",
    "df['Utility'] = np.random.uniform(0, 0.5, df.shape[0])\n",
    "df.head()"
   ]
  },
  {
   "cell_type": "code",
   "execution_count": 2,
   "metadata": {},
   "outputs": [],
   "source": [
    "new_df = df.sample(4)"
   ]
  },
  {
   "cell_type": "code",
   "execution_count": 3,
   "metadata": {},
   "outputs": [
    {
     "data": {
      "text/html": [
       "<div>\n",
       "<style>\n",
       "    .dataframe thead tr:only-child th {\n",
       "        text-align: right;\n",
       "    }\n",
       "\n",
       "    .dataframe thead th {\n",
       "        text-align: left;\n",
       "    }\n",
       "\n",
       "    .dataframe tbody tr th {\n",
       "        vertical-align: top;\n",
       "    }\n",
       "</style>\n",
       "<table border=\"1\" class=\"dataframe\">\n",
       "  <thead>\n",
       "    <tr style=\"text-align: right;\">\n",
       "      <th></th>\n",
       "      <th>Attributes</th>\n",
       "      <th>Meassure</th>\n",
       "      <th>Function</th>\n",
       "      <th>Utility</th>\n",
       "    </tr>\n",
       "  </thead>\n",
       "  <tbody>\n",
       "    <tr>\n",
       "      <th>34</th>\n",
       "      <td>destination</td>\n",
       "      <td>arrivaldelay</td>\n",
       "      <td>STD</td>\n",
       "      <td>0.202468</td>\n",
       "    </tr>\n",
       "    <tr>\n",
       "      <th>30</th>\n",
       "      <td>destination</td>\n",
       "      <td>arrivaldelay</td>\n",
       "      <td>SUM</td>\n",
       "      <td>0.058358</td>\n",
       "    </tr>\n",
       "    <tr>\n",
       "      <th>43</th>\n",
       "      <td>destination</td>\n",
       "      <td>weatherdelay</td>\n",
       "      <td>MAX</td>\n",
       "      <td>0.134349</td>\n",
       "    </tr>\n",
       "    <tr>\n",
       "      <th>11</th>\n",
       "      <td>carrier</td>\n",
       "      <td>weatherdelay</td>\n",
       "      <td>AVG</td>\n",
       "      <td>0.081595</td>\n",
       "    </tr>\n",
       "  </tbody>\n",
       "</table>\n",
       "</div>"
      ],
      "text/plain": [
       "     Attributes      Meassure Function   Utility\n",
       "34  destination  arrivaldelay      STD  0.202468\n",
       "30  destination  arrivaldelay      SUM  0.058358\n",
       "43  destination  weatherdelay      MAX  0.134349\n",
       "11      carrier  weatherdelay      AVG  0.081595"
      ]
     },
     "execution_count": 3,
     "metadata": {},
     "output_type": "execute_result"
    }
   ],
   "source": [
    "new_df"
   ]
  },
  {
   "cell_type": "code",
   "execution_count": 4,
   "metadata": {},
   "outputs": [],
   "source": [
    "result = df[~df.index.isin(new_df.index)]"
   ]
  },
  {
   "cell_type": "code",
   "execution_count": 5,
   "metadata": {
    "collapsed": true
   },
   "outputs": [],
   "source": [
    "def check_attribute(attr):\n",
    "    time_att = ['year','quarter','month','week','day']\n",
    "    loc_att = ['country','state','region','city']\n",
    "    product_att = ['category','subcategory','product_name']\n",
    "    \n",
    "    if attr in time_att:\n",
    "        return 1\n",
    "    elif attr in loc_att:\n",
    "        return 2\n",
    "    elif attr in product_att:\n",
    "        return 3\n",
    "    else:\n",
    "        return 0\n",
    "\n",
    "def time_hierarchy(at1, at2):\n",
    "    time_att = ['year','quarter','month','week','day']\n",
    "    val = [1,2,3,4,5]\n",
    "    dict_time = dict(zip(time_att,val))\n",
    "    d = abs(dict_time[at1] - dict_time[at2])\n",
    "    return float(d)/len(time_att)\n",
    "    \n",
    "def loc_hierarchy(at1, at2):\n",
    "    loc_att = ['country','state','region','city']\n",
    "    val = [1,2,3,4]\n",
    "    dict_loc = dict(zip(loc_att,val))\n",
    "    d = abs(dict_loc[at1] - dict_loc[at2])\n",
    "    return float(d)/len(loc_att)\n",
    "\n",
    "def product_hierarchy(at1, at2):\n",
    "    product_att = ['category','subcategory','product_name']\n",
    "    val = [1,2,3]\n",
    "    dict_prod = dict(zip(product_att,val))\n",
    "    d = abs(dict_prod[at1] - dict_prod[at2])\n",
    "    return float(d)/len(product_att)\n",
    "\n",
    "def diversity(a,b):\n",
    "    la = list(a)\n",
    "    lb = list(b)\n",
    "    v1 = get_value_d(la[0],lb[0])\n",
    "    v2 = get_value_d(la[1],lb[1])\n",
    "    v3 = get_value_d(la[2],lb[2])\n",
    "    res = float((v1+v2+v3))/3\n",
    "    return res\n",
    "    \n",
    "def get_value_d(attr1, attr2):\n",
    "    d = None \n",
    "    if check_attribute(attr1) != 0:\n",
    "        if check_attribute(attr1) == check_attribute(attr2):\n",
    "            if check_attribute(attr1) == 1:\n",
    "                d = time_hierarchy(attr1, attr2)\n",
    "            elif check_attribute(attr1) == 2:\n",
    "                d = loc_hierarchy(attr1, attr2)\n",
    "            elif check_attribute(attr1) == 3:\n",
    "                d = product_hierarchy(attr1, attr2)\n",
    "            else:\n",
    "                pass\n",
    "        else:\n",
    "            if (attr1) == (attr2):\n",
    "                d = 0.0\n",
    "            else:\n",
    "                d = 1.0\n",
    "    else:\n",
    "        if (attr1) == (attr2):\n",
    "                d = 0.0\n",
    "        else:\n",
    "            d = 1.0\n",
    "    return d\n",
    "\n",
    "# def diversity_bruteforce(a,b):\n",
    "#     c = set(a).intersection(b)\n",
    "#     d = float(len(c)) / (len(a) + len(b) - len(c))\n",
    "#     return 1 - d"
   ]
  },
  {
   "cell_type": "code",
   "execution_count": 6,
   "metadata": {
    "collapsed": true
   },
   "outputs": [],
   "source": [
    "def most_distant_two_views(data):\n",
    "    max_distance = 0\n",
    "    result = []\n",
    "    for i in range(0,len(data)):\n",
    "        for j in range(0,len(data)):\n",
    "            d = diversity(data[i],data[j])\n",
    "            if d > max_distance:\n",
    "                max_distance = d\n",
    "                result = [data[i],data[j]]\n",
    "    return result\n",
    "\n",
    "def dist(X, S):\n",
    "    # max_distance = []\n",
    "    # for i in range(0,len(X)):\n",
    "    #     d = 0\n",
    "    #     for j in range(0,len(S)):\n",
    "    #         d += (diversity(X[i],S[j]))/len(S)\n",
    "    #     max_distance.append((d, tuple([X[i],S[j]])))\n",
    "    # max_distance.sort(key=lambda x: x[0], reverse=True)\n",
    "    # data = max_distance[:1]\n",
    "    # return data[0][1][0]\n",
    "    max_distance = 0\n",
    "    result = []\n",
    "    for i in range(0,len(X)):\n",
    "        d = 0\n",
    "        for j in range(0,len(S)):\n",
    "            d += diversity(set(X[i]),set(S[j]))\n",
    "            if d > max_distance:\n",
    "                max_distance = d\n",
    "                result = X[i]\n",
    "    return result"
   ]
  },
  {
   "cell_type": "code",
   "execution_count": 7,
   "metadata": {
    "collapsed": true
   },
   "outputs": [],
   "source": [
    "def util_func_d(S_list):\n",
    "    new_df = pd.DataFrame(S_list)\n",
    "    utility = sum(new_df[3])/len(new_df)\n",
    "    return utility\n",
    "\n",
    "def div_func_d(S_list):\n",
    "    k = len(S_list)\n",
    "    new_df = pd.DataFrame(S_list)\n",
    "    df_now = new_df.drop([3], axis=1)\n",
    "    S_list_now = df_now.values.tolist()\n",
    "    new_series = pd.Series(S_list_now)\n",
    "    series_set = new_series.apply(lambda row: set(row))\n",
    "    new_df = series_set.apply(lambda a: series_set.apply(lambda b: diversity(a,b)))\n",
    "    new_df['tot'] = new_df.sum(axis=1)\n",
    "    div = (sum(new_df['tot'])/2)/(k*(k-1))\n",
    "    return div\n",
    "\n",
    "def objf_func_d(S):\n",
    "    util = util_func_d(S)\n",
    "    div = div_func_d(S)\n",
    "    objf = (util+div)\n",
    "    return objf\n",
    "\n",
    "def objf_func_new_set_d(S, X, Y):\n",
    "    new_S = S.copy()\n",
    "    new_S.remove(X)\n",
    "    new_S.append(Y)\n",
    "    util = util_func_d(new_S)\n",
    "    div = div_func_d(new_S)\n",
    "    objf = (util+div)\n",
    "    return objf\n",
    "\n",
    "def create_S_d(S, X, Y):\n",
    "    new_S = S.copy()\n",
    "    new_S.remove(X)\n",
    "    new_S.append(Y)\n",
    "    return new_S"
   ]
  },
  {
   "cell_type": "code",
   "execution_count": 8,
   "metadata": {},
   "outputs": [],
   "source": [
    "def Greedy_Return_df(df, k):\n",
    "    df_greedy = df.drop(['Utility'],axis=1)\n",
    "    dataset = df_greedy.reset_index(drop=True)\n",
    "    data1 = dataset.values.tolist()\n",
    "    X = data1.copy()\n",
    "    S = most_distant_two_views(data1)\n",
    "    X.remove(S[0])\n",
    "    X.remove(S[1])\n",
    "    i = len(S)\n",
    "\n",
    "\n",
    "    while i < k:    \n",
    "        item = dist(X, S)\n",
    "        #print(item)\n",
    "        if item not in S:\n",
    "            S.append(item)\n",
    "            X.remove(item)\n",
    "        else:\n",
    "            pass\n",
    "\n",
    "        i = i + 1  \n",
    "\n",
    "    df_gh = pd.DataFrame(S, columns=['Attributes', 'Meassure', 'Function'])\n",
    "    df_maxdiv = df_gh.merge(df, how='left')\n",
    "\n",
    "    return df_maxdiv"
   ]
  },
  {
   "cell_type": "code",
   "execution_count": 9,
   "metadata": {
    "collapsed": true
   },
   "outputs": [],
   "source": [
    "k = 5"
   ]
  },
  {
   "cell_type": "code",
   "execution_count": 10,
   "metadata": {},
   "outputs": [],
   "source": [
    "# df_greedy = Greedy_Return_df(df,k)\n",
    "# df_greedy = df_greedy.drop(['Utility'],axis=1)\n",
    "\n",
    "# Xdf = df.reset_index(drop=True)\n",
    "# Xdf = Xdf.drop(['Utility'],axis=1)\n",
    "# Retlist = df_greedy.values.tolist()\n",
    "\n",
    "def div_new_set_d(S, X, Y):\n",
    "    new_S = S.copy()\n",
    "    new_S.remove(X)\n",
    "    new_S.append(Y)\n",
    "    #util = util_func_d(new_S)\n",
    "    div = div_func_d(new_S)\n",
    "    #objf = (util+div)\n",
    "    return div"
   ]
  },
  {
   "cell_type": "code",
   "execution_count": 11,
   "metadata": {},
   "outputs": [],
   "source": [
    "df_greedy = Greedy_Return_df(df,k)\n",
    "Xdf = df.reset_index(drop=True)\n",
    "Retlist = df_greedy.values.tolist()\n",
    "\n",
    "X = Xdf.values.tolist()\n",
    "\n",
    "\n",
    "\n",
    "#get the original X = X -S\n",
    "Retlist_X = Retlist.copy()\n",
    "\n",
    "for i in range(0,len(Retlist_X)):\n",
    "    X.remove(Retlist_X[i])\n",
    "\n",
    "S = Retlist.copy()\n",
    "\n",
    "for i in range(0,len(X)):\n",
    "    S_ = S.copy()\n",
    "    for j in range(0,len(S)):\n",
    "        if objf_func_d(S_) < objf_func_new_set_d(S, S[j], X[i]):\n",
    "            new_S = create_S_d(S, S[j], X[i])\n",
    "            S_ = new_S.copy()\n",
    "            #print(S_)\n",
    "    if objf_func_d(S_) > objf_func_d(S):\n",
    "        S = S_.copy()\n",
    "    #print(\"X ke {}\".format(i))\n",
    "objf = objf_func_d(S)"
   ]
  },
  {
   "cell_type": "code",
   "execution_count": 32,
   "metadata": {
    "scrolled": true
   },
   "outputs": [
    {
     "data": {
      "text/plain": [
       "[['carrier', 'departurdelay', 'SUM', 0.3295100743406118],\n",
       " ['origin', 'arrivaldelay', 'STD', 0.33954727854007566],\n",
       " ['destination', 'arrivaldelay', 'MIN', 0.3616480582740928],\n",
       " ['destination', 'departurdelay', 'AVG', 0.46063951908037293],\n",
       " ['destination', 'weatherdelay', 'SUM', 0.42636531014458967]]"
      ]
     },
     "execution_count": 32,
     "metadata": {},
     "output_type": "execute_result"
    }
   ],
   "source": [
    "S"
   ]
  },
  {
   "cell_type": "code",
   "execution_count": 58,
   "metadata": {
    "collapsed": true
   },
   "outputs": [],
   "source": [
    "def diversity(a,b):\n",
    "    la = list(a)\n",
    "    lb = list(b)\n",
    "    v1 = get_value_d(la[0],lb[0])\n",
    "    v2 = get_value_d(la[1],lb[1])\n",
    "    v3 = get_value_d(la[2],lb[2])\n",
    "    \n",
    "    \n",
    "    \n",
    "    \n",
    "    \n",
    "    \n",
    "    \n",
    "    \n",
    "    \n",
    "    \n",
    "    \n",
    "    \n",
    "    \n",
    "    \n",
    "    \n",
    "    \n",
    "    \n",
    "    \n",
    "    \n",
    "    \n",
    "    \n",
    "    \n",
    "    \n",
    "    \n",
    "    \n",
    "    \n",
    "    \n",
    "    \n",
    "    \n",
    "    \n",
    "    \n",
    "    \n",
    "    \n",
    "    \n",
    "    \n",
    "    \n",
    "    \n",
    "    \n",
    "    \n",
    "    \n",
    "    \n",
    "    \n",
    "    \n",
    "    \n",
    "    \n",
    "    \n",
    "    \n",
    "    \n",
    "    \n",
    "    \n",
    "    \n",
    "    \n",
    "    \n",
    "    \n",
    "    \n",
    "    \n",
    "    \n",
    "    \n",
    "    \n",
    "    \n",
    "    \n",
    "    \n",
    "    \n",
    "    \n",
    "    \n",
    "    \n",
    "    \n",
    "    \n",
    "    \n",
    "    \n",
    "    \n",
    "    \n",
    "    \n",
    "    \n",
    "    \n",
    "    \n",
    "    \n",
    "    \n",
    "    \n",
    "    \n",
    "    \n",
    "    \n",
    "    +\n",
    "    return res"
   ]
  },
  {
   "cell_type": "code",
   "execution_count": 59,
   "metadata": {},
   "outputs": [],
   "source": [
    "a = ['carrier', 'departurdelay', 'SUM']"
   ]
  },
  {
   "cell_type": "code",
   "execution_count": 60,
   "metadata": {},
   "outputs": [],
   "source": [
    "b = ['destination', 'departurdelay', 'MIN']"
   ]
  },
  {
   "cell_type": "code",
   "execution_count": 61,
   "metadata": {},
   "outputs": [
    {
     "data": {
      "text/plain": [
       "0.6666666666666666"
      ]
     },
     "execution_count": 61,
     "metadata": {},
     "output_type": "execute_result"
    }
   ],
   "source": [
    "diversity(a,b)"
   ]
  },
  {
   "cell_type": "code",
   "execution_count": 24,
   "metadata": {},
   "outputs": [],
   "source": [
    "import math\n",
    "max_bound = math.sqrt(2)"
   ]
  },
  {
   "cell_type": "code",
   "execution_count": 25,
   "metadata": {},
   "outputs": [
    {
     "data": {
      "text/plain": [
       "1.4142135623730951"
      ]
     },
     "execution_count": 25,
     "metadata": {},
     "output_type": "execute_result"
    }
   ],
   "source": [
    "max_bound"
   ]
  },
  {
   "cell_type": "code",
   "execution_count": 31,
   "metadata": {},
   "outputs": [
    {
     "data": {
      "text/plain": [
       "{1, 2, 5, 7, 9}"
      ]
     },
     "execution_count": 31,
     "metadata": {},
     "output_type": "execute_result"
    }
   ],
   "source": [
    "first_list = [1, 2, 2, 5]\n",
    "second_list = [2, 5, 7, 9]\n",
    "\n",
    "in_first = set(first_list)\n",
    "in_second = set(second_list)\n",
    "\n",
    "in_first | in_second"
   ]
  },
  {
   "cell_type": "code",
   "execution_count": 30,
   "metadata": {},
   "outputs": [
    {
     "data": {
      "text/plain": [
       "{7, 9}"
      ]
     },
     "execution_count": 30,
     "metadata": {},
     "output_type": "execute_result"
    }
   ],
   "source": [
    "in_second_but_not_in_first"
   ]
  },
  {
   "cell_type": "code",
   "execution_count": null,
   "metadata": {},
   "outputs": [],
   "source": [
    "alpha = 0.4\n",
    "\n",
    "maxDI =(alpha*max_bound) + ((1-alpha)*mean)\n",
    "new = 0.2 \n",
    "\n",
    "maxDI =(alpha*new) + ((1-alpha)*maxDI)"
   ]
  },
  {
   "cell_type": "code",
   "execution_count": null,
   "metadata": {},
   "outputs": [],
   "source": [
    "maxDI"
   ]
  },
  {
   "cell_type": "code",
   "execution_count": null,
   "metadata": {},
   "outputs": [],
   "source": [
    "import numpy as np\n",
    "from scipy.stats import truncnorm\n",
    "import matplotlib.pyplot as plt\n",
    "\n",
    "scale = 3.\n",
    "range = 10\n",
    "size = 1000\n",
    "\n",
    "X = truncnorm(a=1, b=1000, scale=scale).rvs(size=size)"
   ]
  },
  {
   "cell_type": "code",
   "execution_count": null,
   "metadata": {},
   "outputs": [],
   "source": [
    "X = X.round().astype(int)"
   ]
  },
  {
   "cell_type": "code",
   "execution_count": null,
   "metadata": {},
   "outputs": [],
   "source": [
    "from numpy import random\n",
    "N = random.choice(X,300)"
   ]
  },
  {
   "cell_type": "code",
   "execution_count": null,
   "metadata": {},
   "outputs": [],
   "source": [
    "N"
   ]
  },
  {
   "cell_type": "code",
   "execution_count": null,
   "metadata": {},
   "outputs": [],
   "source": [
    "N.mean()"
   ]
  },
  {
   "cell_type": "code",
   "execution_count": null,
   "metadata": {},
   "outputs": [],
   "source": [
    "N.std()"
   ]
  },
  {
   "cell_type": "code",
   "execution_count": null,
   "metadata": {},
   "outputs": [],
   "source": [
    "N.mean() + (3*N.std())"
   ]
  },
  {
   "cell_type": "code",
   "execution_count": null,
   "metadata": {},
   "outputs": [],
   "source": [
    "X.max()"
   ]
  },
  {
   "cell_type": "code",
   "execution_count": null,
   "metadata": {},
   "outputs": [],
   "source": [
    "def diversity(a,b):\n",
    "    la = list(a)\n",
    "    lb = list(b)\n",
    "    v1 = get_value_d(la[0],lb[0])\n",
    "    v2 = get_value_d(la[1],lb[1])\n",
    "    v3 = get_value_d(la[2],lb[2])\n",
    "    res = float((((v1*3)+(v2*2)+(v3*1))/3)/2)\n",
    "    return res"
   ]
  },
  {
   "cell_type": "code",
   "execution_count": null,
   "metadata": {
    "collapsed": true
   },
   "outputs": [],
   "source": [
    "a = ['carrier', 'departurdelay', 'AVG']"
   ]
  },
  {
   "cell_type": "code",
   "execution_count": null,
   "metadata": {
    "collapsed": true
   },
   "outputs": [],
   "source": [
    "b =  ['carrier', 'departurdelay', 'MAX']"
   ]
  },
  {
   "cell_type": "code",
   "execution_count": null,
   "metadata": {},
   "outputs": [],
   "source": [
    "diversity(a,b)"
   ]
  },
  {
   "cell_type": "code",
   "execution_count": null,
   "metadata": {
    "collapsed": true
   },
   "outputs": [],
   "source": []
  }
 ],
 "metadata": {
  "kernelspec": {
   "display_name": "Python 3",
   "language": "python",
   "name": "python3"
  },
  "language_info": {
   "codemirror_mode": {
    "name": "ipython",
    "version": 3
   },
   "file_extension": ".py",
   "mimetype": "text/x-python",
   "name": "python",
   "nbconvert_exporter": "python",
   "pygments_lexer": "ipython3",
   "version": "3.6.3"
  }
 },
 "nbformat": 4,
 "nbformat_minor": 2
}
