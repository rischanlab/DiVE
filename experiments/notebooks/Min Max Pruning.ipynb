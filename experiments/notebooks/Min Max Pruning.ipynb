{
 "cells": [
  {
   "cell_type": "code",
   "execution_count": 51,
   "metadata": {},
   "outputs": [
    {
     "data": {
      "text/html": [
       "<div>\n",
       "<style>\n",
       "    .dataframe thead tr:only-child th {\n",
       "        text-align: right;\n",
       "    }\n",
       "\n",
       "    .dataframe thead th {\n",
       "        text-align: left;\n",
       "    }\n",
       "\n",
       "    .dataframe tbody tr th {\n",
       "        vertical-align: top;\n",
       "    }\n",
       "</style>\n",
       "<table border=\"1\" class=\"dataframe\">\n",
       "  <thead>\n",
       "    <tr style=\"text-align: right;\">\n",
       "      <th></th>\n",
       "      <th>Attributes</th>\n",
       "      <th>Meassure</th>\n",
       "      <th>Function</th>\n",
       "      <th>Utility</th>\n",
       "    </tr>\n",
       "  </thead>\n",
       "  <tbody>\n",
       "    <tr>\n",
       "      <th>0</th>\n",
       "      <td>carrier</td>\n",
       "      <td>arrivaldelay</td>\n",
       "      <td>SUM</td>\n",
       "      <td>0.387516</td>\n",
       "    </tr>\n",
       "    <tr>\n",
       "      <th>1</th>\n",
       "      <td>carrier</td>\n",
       "      <td>arrivaldelay</td>\n",
       "      <td>AVG</td>\n",
       "      <td>0.483967</td>\n",
       "    </tr>\n",
       "    <tr>\n",
       "      <th>2</th>\n",
       "      <td>carrier</td>\n",
       "      <td>arrivaldelay</td>\n",
       "      <td>MIN</td>\n",
       "      <td>0.345170</td>\n",
       "    </tr>\n",
       "    <tr>\n",
       "      <th>3</th>\n",
       "      <td>carrier</td>\n",
       "      <td>arrivaldelay</td>\n",
       "      <td>MAX</td>\n",
       "      <td>0.353826</td>\n",
       "    </tr>\n",
       "    <tr>\n",
       "      <th>4</th>\n",
       "      <td>carrier</td>\n",
       "      <td>arrivaldelay</td>\n",
       "      <td>STD</td>\n",
       "      <td>0.141805</td>\n",
       "    </tr>\n",
       "  </tbody>\n",
       "</table>\n",
       "</div>"
      ],
      "text/plain": [
       "  Attributes      Meassure Function   Utility\n",
       "0    carrier  arrivaldelay      SUM  0.387516\n",
       "1    carrier  arrivaldelay      AVG  0.483967\n",
       "2    carrier  arrivaldelay      MIN  0.345170\n",
       "3    carrier  arrivaldelay      MAX  0.353826\n",
       "4    carrier  arrivaldelay      STD  0.141805"
      ]
     },
     "execution_count": 51,
     "metadata": {},
     "output_type": "execute_result"
    }
   ],
   "source": [
    "# import libraries\n",
    "import pandas as pd \n",
    "from itertools import product\n",
    "import numpy as np\n",
    "\n",
    "A= ['carrier', 'origin', 'destination'] \n",
    "M= ['arrivaldelay', 'departurdelay', 'weatherdelay']\n",
    "F= ['SUM', 'AVG', 'MIN', 'MAX', 'STD']\n",
    "\n",
    "df = pd.DataFrame(list(product(A,M,F)), columns=['Attributes', 'Meassure', 'Function'])\n",
    "df['Utility'] = np.random.uniform(0, 0.5, df.shape[0])\n",
    "df.head()"
   ]
  },
  {
   "cell_type": "code",
   "execution_count": 85,
   "metadata": {
    "collapsed": true
   },
   "outputs": [],
   "source": [
    "# Diversity functions\n",
    "def check_attribute(attr):\n",
    "    time_att = ['year','quarter','month','week','day']\n",
    "    loc_att = ['country','state','region','city']\n",
    "    product_att = ['category','subcategory','product_name']\n",
    "    \n",
    "    if attr in time_att:\n",
    "        return 1\n",
    "    elif attr in loc_att:\n",
    "        return 2\n",
    "    elif attr in product_att:\n",
    "        return 3\n",
    "    else:\n",
    "        return 0\n",
    "\n",
    "def time_hierarchy(at1, at2):\n",
    "    time_att = ['year','quarter','month','week','day']\n",
    "    val = [1,2,3,4,5]\n",
    "    dict_time = dict(zip(time_att,val))\n",
    "    d = abs(dict_time[at1] - dict_time[at2])\n",
    "    return float(d)/len(time_att)\n",
    "    \n",
    "def loc_hierarchy(at1, at2):\n",
    "    loc_att = ['country','state','region','city']\n",
    "    val = [1,2,3,4]\n",
    "    dict_loc = dict(zip(loc_att,val))\n",
    "    d = abs(dict_loc[at1] - dict_loc[at2])\n",
    "    return float(d)/len(loc_att)\n",
    "\n",
    "def product_hierarchy(at1, at2):\n",
    "    product_att = ['category','subcategory','product_name']\n",
    "    val = [1,2,3]\n",
    "    dict_prod = dict(zip(product_att,val))\n",
    "    d = abs(dict_prod[at1] - dict_prod[at2])\n",
    "    return float(d)/len(product_att)\n",
    "\n",
    "def diversity(a,b):\n",
    "    la = list(a)\n",
    "    lb = list(b)\n",
    "    v1 = get_value_d(la[0],lb[0])\n",
    "    v2 = get_value_d(la[1],lb[1])\n",
    "    v3 = get_value_d(la[2],lb[2])\n",
    "    res = float(((v1*3)+(v2*2)+(v3*1)))/3\n",
    "    return res\n",
    "    \n",
    "def get_value_d(attr1, attr2):\n",
    "    d = None \n",
    "    if check_attribute(attr1) != 0:\n",
    "        if check_attribute(attr1) == check_attribute(attr2):\n",
    "            if check_attribute(attr1) == 1:\n",
    "                d = time_hierarchy(attr1, attr2)\n",
    "            elif check_attribute(attr1) == 2:\n",
    "                d = loc_hierarchy(attr1, attr2)\n",
    "            elif check_attribute(attr1) == 3:\n",
    "                d = product_hierarchy(attr1, attr2)\n",
    "            else:\n",
    "                pass\n",
    "        else:\n",
    "            if (attr1) == (attr2):\n",
    "                d = 0.0\n",
    "            else:\n",
    "                d = 1.0\n",
    "    else:\n",
    "        if (attr1) == (attr2):\n",
    "                d = 0.0\n",
    "        else:\n",
    "            d = 1.0\n",
    "    return d\n",
    "\n",
    "def most_distant_two_views(data):\n",
    "    max_distance = 0\n",
    "    result = []\n",
    "    for i in range(0,len(data)):\n",
    "        for j in range(0,len(data)):\n",
    "            d = diversity(data[i],data[j])\n",
    "            if d > max_distance:\n",
    "                max_distance = d\n",
    "                result = [data[i],data[j]]\n",
    "    return result\n",
    "\n",
    "def div_compute(item, S_list):\n",
    "    S_new = S_list.copy()\n",
    "    S_new.append(item)\n",
    "    k = len(S_new)\n",
    "    new_series = pd.Series(S_new)\n",
    "    series_set = new_series.apply(lambda row: set(row))\n",
    "    new_df = series_set.apply(lambda a: series_set.apply(lambda b: diversity(a,b)))\n",
    "    new_df['tot'] = new_df.sum(axis=1)\n",
    "    div = (sum(new_df['tot'])/2)/(k*(k-1))\n",
    "    return div\n",
    "\n",
    "def max_compute(div, tradeoff=0.9):\n",
    "    util = 1.4\n",
    "    objf = ((1-tradeoff)*util)+(tradeoff*div)\n",
    "    return objf\n",
    "\n",
    "def min_compute(div, tradeoff=0.9):\n",
    "    util = 0.0\n",
    "    objf = ((1-tradeoff)*util)+(tradeoff*div)\n",
    "    return objf\n",
    "    "
   ]
  },
  {
   "cell_type": "markdown",
   "metadata": {},
   "source": [
    "# Synthetic Dataset"
   ]
  },
  {
   "cell_type": "code",
   "execution_count": 86,
   "metadata": {},
   "outputs": [
    {
     "data": {
      "text/html": [
       "<div>\n",
       "<style>\n",
       "    .dataframe thead tr:only-child th {\n",
       "        text-align: right;\n",
       "    }\n",
       "\n",
       "    .dataframe thead th {\n",
       "        text-align: left;\n",
       "    }\n",
       "\n",
       "    .dataframe tbody tr th {\n",
       "        vertical-align: top;\n",
       "    }\n",
       "</style>\n",
       "<table border=\"1\" class=\"dataframe\">\n",
       "  <thead>\n",
       "    <tr style=\"text-align: right;\">\n",
       "      <th></th>\n",
       "      <th>Attributes</th>\n",
       "      <th>Meassure</th>\n",
       "      <th>Function</th>\n",
       "      <th>Utility</th>\n",
       "    </tr>\n",
       "  </thead>\n",
       "  <tbody>\n",
       "    <tr>\n",
       "      <th>0</th>\n",
       "      <td>order_date</td>\n",
       "      <td>profit</td>\n",
       "      <td>avg</td>\n",
       "      <td>0.547994</td>\n",
       "    </tr>\n",
       "    <tr>\n",
       "      <th>1</th>\n",
       "      <td>postal_code</td>\n",
       "      <td>profit</td>\n",
       "      <td>avg</td>\n",
       "      <td>0.542089</td>\n",
       "    </tr>\n",
       "    <tr>\n",
       "      <th>2</th>\n",
       "      <td>order_date</td>\n",
       "      <td>profit</td>\n",
       "      <td>sum</td>\n",
       "      <td>0.536141</td>\n",
       "    </tr>\n",
       "    <tr>\n",
       "      <th>3</th>\n",
       "      <td>ship_date</td>\n",
       "      <td>profit</td>\n",
       "      <td>sum</td>\n",
       "      <td>0.529703</td>\n",
       "    </tr>\n",
       "    <tr>\n",
       "      <th>4</th>\n",
       "      <td>customer_name</td>\n",
       "      <td>profit</td>\n",
       "      <td>sum</td>\n",
       "      <td>0.503661</td>\n",
       "    </tr>\n",
       "  </tbody>\n",
       "</table>\n",
       "</div>"
      ],
      "text/plain": [
       "      Attributes Meassure Function   Utility\n",
       "0     order_date   profit      avg  0.547994\n",
       "1    postal_code   profit      avg  0.542089\n",
       "2     order_date   profit      sum  0.536141\n",
       "3      ship_date   profit      sum  0.529703\n",
       "4  customer_name   profit      sum  0.503661"
      ]
     },
     "execution_count": 86,
     "metadata": {},
     "output_type": "execute_result"
    }
   ],
   "source": [
    "# Synthetic dataset\n",
    "df.head()"
   ]
  },
  {
   "cell_type": "code",
   "execution_count": 87,
   "metadata": {
    "collapsed": true
   },
   "outputs": [],
   "source": [
    "df_greedy = df.drop(['Utility'],axis=1)\n",
    "dataset = df_greedy.reset_index(drop=True)\n",
    "data = dataset.values.tolist()\n",
    "X = data.copy()\n",
    "S = most_distant_two_views(data)\n",
    "X.remove(S[0])\n",
    "X.remove(S[1])\n",
    "i = len(S)"
   ]
  },
  {
   "cell_type": "code",
   "execution_count": 88,
   "metadata": {},
   "outputs": [
    {
     "data": {
      "text/plain": [
       "['postal_code', 'profit', 'avg']"
      ]
     },
     "execution_count": 88,
     "metadata": {},
     "output_type": "execute_result"
    }
   ],
   "source": [
    "X[0] #Example of X"
   ]
  },
  {
   "cell_type": "code",
   "execution_count": 89,
   "metadata": {},
   "outputs": [
    {
     "data": {
      "text/plain": [
       "[['order_date', 'profit', 'avg'], ['ship_mode', 'sales', 'sum']]"
      ]
     },
     "execution_count": 89,
     "metadata": {},
     "output_type": "execute_result"
    }
   ],
   "source": [
    "S # two most distant views"
   ]
  },
  {
   "cell_type": "markdown",
   "metadata": {},
   "source": [
    "### First iteration to get the third point"
   ]
  },
  {
   "cell_type": "code",
   "execution_count": 90,
   "metadata": {
    "collapsed": true
   },
   "outputs": [],
   "source": [
    "#Creating dataframe of X \n",
    "x_df = pd.DataFrame(X, columns=['Attributes', 'Meassure', 'Function']) "
   ]
  },
  {
   "cell_type": "code",
   "execution_count": 91,
   "metadata": {
    "collapsed": true
   },
   "outputs": [],
   "source": [
    "# Calculate diversity value of each X to current set S\n",
    "x_df['div'] = x_df[['Attributes', 'Meassure', 'Function']].apply(lambda row: div_compute(row,S), axis=1)"
   ]
  },
  {
   "cell_type": "code",
   "execution_count": 92,
   "metadata": {
    "collapsed": true
   },
   "outputs": [],
   "source": [
    "# Calculate max and min values of each X\n",
    "x_df['max'] = x_df['div'].apply(lambda row: max_compute(row))\n",
    "x_df['min'] = x_df['div'].apply(lambda row: min_compute(row))"
   ]
  },
  {
   "cell_type": "code",
   "execution_count": 93,
   "metadata": {},
   "outputs": [
    {
     "data": {
      "text/html": [
       "<div>\n",
       "<style>\n",
       "    .dataframe thead tr:only-child th {\n",
       "        text-align: right;\n",
       "    }\n",
       "\n",
       "    .dataframe thead th {\n",
       "        text-align: left;\n",
       "    }\n",
       "\n",
       "    .dataframe tbody tr th {\n",
       "        vertical-align: top;\n",
       "    }\n",
       "</style>\n",
       "<table border=\"1\" class=\"dataframe\">\n",
       "  <thead>\n",
       "    <tr style=\"text-align: right;\">\n",
       "      <th></th>\n",
       "      <th>Attributes</th>\n",
       "      <th>Meassure</th>\n",
       "      <th>Function</th>\n",
       "      <th>div</th>\n",
       "      <th>max</th>\n",
       "      <th>min</th>\n",
       "    </tr>\n",
       "  </thead>\n",
       "  <tbody>\n",
       "    <tr>\n",
       "      <th>0</th>\n",
       "      <td>postal_code</td>\n",
       "      <td>profit</td>\n",
       "      <td>avg</td>\n",
       "      <td>1.000000</td>\n",
       "      <td>1.04</td>\n",
       "      <td>0.90</td>\n",
       "    </tr>\n",
       "    <tr>\n",
       "      <th>1</th>\n",
       "      <td>order_date</td>\n",
       "      <td>profit</td>\n",
       "      <td>sum</td>\n",
       "      <td>0.777778</td>\n",
       "      <td>0.84</td>\n",
       "      <td>0.70</td>\n",
       "    </tr>\n",
       "    <tr>\n",
       "      <th>2</th>\n",
       "      <td>ship_date</td>\n",
       "      <td>profit</td>\n",
       "      <td>sum</td>\n",
       "      <td>0.944444</td>\n",
       "      <td>0.99</td>\n",
       "      <td>0.85</td>\n",
       "    </tr>\n",
       "    <tr>\n",
       "      <th>3</th>\n",
       "      <td>customer_name</td>\n",
       "      <td>profit</td>\n",
       "      <td>sum</td>\n",
       "      <td>0.944444</td>\n",
       "      <td>0.99</td>\n",
       "      <td>0.85</td>\n",
       "    </tr>\n",
       "    <tr>\n",
       "      <th>4</th>\n",
       "      <td>ship_date</td>\n",
       "      <td>profit</td>\n",
       "      <td>avg</td>\n",
       "      <td>1.000000</td>\n",
       "      <td>1.04</td>\n",
       "      <td>0.90</td>\n",
       "    </tr>\n",
       "    <tr>\n",
       "      <th>5</th>\n",
       "      <td>customer_name</td>\n",
       "      <td>profit</td>\n",
       "      <td>avg</td>\n",
       "      <td>0.944444</td>\n",
       "      <td>0.99</td>\n",
       "      <td>0.85</td>\n",
       "    </tr>\n",
       "    <tr>\n",
       "      <th>6</th>\n",
       "      <td>city</td>\n",
       "      <td>profit</td>\n",
       "      <td>avg</td>\n",
       "      <td>1.000000</td>\n",
       "      <td>1.04</td>\n",
       "      <td>0.90</td>\n",
       "    </tr>\n",
       "    <tr>\n",
       "      <th>7</th>\n",
       "      <td>product_name</td>\n",
       "      <td>profit</td>\n",
       "      <td>avg</td>\n",
       "      <td>0.888889</td>\n",
       "      <td>0.94</td>\n",
       "      <td>0.80</td>\n",
       "    </tr>\n",
       "  </tbody>\n",
       "</table>\n",
       "</div>"
      ],
      "text/plain": [
       "      Attributes Meassure Function       div   max   min\n",
       "0    postal_code   profit      avg  1.000000  1.04  0.90\n",
       "1     order_date   profit      sum  0.777778  0.84  0.70\n",
       "2      ship_date   profit      sum  0.944444  0.99  0.85\n",
       "3  customer_name   profit      sum  0.944444  0.99  0.85\n",
       "4      ship_date   profit      avg  1.000000  1.04  0.90\n",
       "5  customer_name   profit      avg  0.944444  0.99  0.85\n",
       "6           city   profit      avg  1.000000  1.04  0.90\n",
       "7   product_name   profit      avg  0.888889  0.94  0.80"
      ]
     },
     "execution_count": 93,
     "metadata": {},
     "output_type": "execute_result"
    }
   ],
   "source": [
    "x_df.head(8)"
   ]
  },
  {
   "cell_type": "code",
   "execution_count": 94,
   "metadata": {
    "collapsed": true
   },
   "outputs": [],
   "source": [
    "# is there any diversity value which has minimum value of MAX less than maximum value of MIN? "
   ]
  },
  {
   "cell_type": "code",
   "execution_count": 95,
   "metadata": {
    "collapsed": true
   },
   "outputs": [],
   "source": [
    "# Minimum value of Max\n",
    "min_max = min(x_df['max'])"
   ]
  },
  {
   "cell_type": "code",
   "execution_count": 96,
   "metadata": {
    "collapsed": true
   },
   "outputs": [],
   "source": [
    "# Maximum value of Min\n",
    "max_min = max(x_df['min'])"
   ]
  },
  {
   "cell_type": "code",
   "execution_count": 97,
   "metadata": {},
   "outputs": [
    {
     "data": {
      "text/plain": [
       "26"
      ]
     },
     "execution_count": 97,
     "metadata": {},
     "output_type": "execute_result"
    }
   ],
   "source": [
    "new_df = x_df[x_df['max'] < max(x_df['min'])]\n",
    "len(new_df)"
   ]
  },
  {
   "cell_type": "markdown",
   "metadata": {},
   "source": [
    "# Flights Dataset"
   ]
  },
  {
   "cell_type": "code",
   "execution_count": 98,
   "metadata": {
    "collapsed": true
   },
   "outputs": [],
   "source": [
    "xl = pd.ExcelFile(\"flights_dataset.xlsx\")\n",
    "df = xl.parse(\"Sheet1\", header=0)"
   ]
  },
  {
   "cell_type": "code",
   "execution_count": 99,
   "metadata": {
    "collapsed": true
   },
   "outputs": [],
   "source": [
    "df_greedy = df.drop(['Utility'],axis=1)\n",
    "dataset = df_greedy.reset_index(drop=True)\n",
    "data = dataset.values.tolist()\n",
    "X = data.copy()\n",
    "S = most_distant_two_views(data)\n",
    "X.remove(S[0])\n",
    "X.remove(S[1])\n",
    "i = len(S)"
   ]
  },
  {
   "cell_type": "code",
   "execution_count": 100,
   "metadata": {},
   "outputs": [
    {
     "data": {
      "text/plain": [
       "['carrier', 'departuredelay', 'avg']"
      ]
     },
     "execution_count": 100,
     "metadata": {},
     "output_type": "execute_result"
    }
   ],
   "source": [
    "X[0] #Example of X"
   ]
  },
  {
   "cell_type": "code",
   "execution_count": 101,
   "metadata": {},
   "outputs": [
    {
     "data": {
      "text/plain": [
       "[['carrier', 'weatherdelay', 'max'], ['origin', 'departuredelay', 'avg']]"
      ]
     },
     "execution_count": 101,
     "metadata": {},
     "output_type": "execute_result"
    }
   ],
   "source": [
    "S # two most distant views"
   ]
  },
  {
   "cell_type": "code",
   "execution_count": 102,
   "metadata": {},
   "outputs": [
    {
     "data": {
      "text/html": [
       "<div>\n",
       "<style>\n",
       "    .dataframe thead tr:only-child th {\n",
       "        text-align: right;\n",
       "    }\n",
       "\n",
       "    .dataframe thead th {\n",
       "        text-align: left;\n",
       "    }\n",
       "\n",
       "    .dataframe tbody tr th {\n",
       "        vertical-align: top;\n",
       "    }\n",
       "</style>\n",
       "<table border=\"1\" class=\"dataframe\">\n",
       "  <thead>\n",
       "    <tr style=\"text-align: right;\">\n",
       "      <th></th>\n",
       "      <th>Attributes</th>\n",
       "      <th>Meassure</th>\n",
       "      <th>Function</th>\n",
       "      <th>div</th>\n",
       "      <th>max</th>\n",
       "      <th>min</th>\n",
       "    </tr>\n",
       "  </thead>\n",
       "  <tbody>\n",
       "    <tr>\n",
       "      <th>0</th>\n",
       "      <td>carrier</td>\n",
       "      <td>departuredelay</td>\n",
       "      <td>avg</td>\n",
       "      <td>0.833333</td>\n",
       "      <td>0.89</td>\n",
       "      <td>0.75</td>\n",
       "    </tr>\n",
       "    <tr>\n",
       "      <th>1</th>\n",
       "      <td>carrier</td>\n",
       "      <td>weatherdelay</td>\n",
       "      <td>avg</td>\n",
       "      <td>0.666667</td>\n",
       "      <td>0.74</td>\n",
       "      <td>0.60</td>\n",
       "    </tr>\n",
       "    <tr>\n",
       "      <th>2</th>\n",
       "      <td>carrier</td>\n",
       "      <td>distance</td>\n",
       "      <td>avg</td>\n",
       "      <td>0.833333</td>\n",
       "      <td>0.89</td>\n",
       "      <td>0.75</td>\n",
       "    </tr>\n",
       "    <tr>\n",
       "      <th>3</th>\n",
       "      <td>carrier</td>\n",
       "      <td>departuredelay</td>\n",
       "      <td>max</td>\n",
       "      <td>1.000000</td>\n",
       "      <td>1.04</td>\n",
       "      <td>0.90</td>\n",
       "    </tr>\n",
       "    <tr>\n",
       "      <th>4</th>\n",
       "      <td>carrier</td>\n",
       "      <td>arrivaldelay</td>\n",
       "      <td>max</td>\n",
       "      <td>1.000000</td>\n",
       "      <td>1.04</td>\n",
       "      <td>0.90</td>\n",
       "    </tr>\n",
       "    <tr>\n",
       "      <th>5</th>\n",
       "      <td>carrier</td>\n",
       "      <td>arrivaldelay</td>\n",
       "      <td>avg</td>\n",
       "      <td>0.833333</td>\n",
       "      <td>0.89</td>\n",
       "      <td>0.75</td>\n",
       "    </tr>\n",
       "    <tr>\n",
       "      <th>6</th>\n",
       "      <td>carrier</td>\n",
       "      <td>distance</td>\n",
       "      <td>max</td>\n",
       "      <td>0.833333</td>\n",
       "      <td>0.89</td>\n",
       "      <td>0.75</td>\n",
       "    </tr>\n",
       "    <tr>\n",
       "      <th>7</th>\n",
       "      <td>carrier</td>\n",
       "      <td>distance</td>\n",
       "      <td>sum</td>\n",
       "      <td>0.888889</td>\n",
       "      <td>0.94</td>\n",
       "      <td>0.80</td>\n",
       "    </tr>\n",
       "  </tbody>\n",
       "</table>\n",
       "</div>"
      ],
      "text/plain": [
       "  Attributes        Meassure Function       div   max   min\n",
       "0    carrier  departuredelay      avg  0.833333  0.89  0.75\n",
       "1    carrier    weatherdelay      avg  0.666667  0.74  0.60\n",
       "2    carrier        distance      avg  0.833333  0.89  0.75\n",
       "3    carrier  departuredelay      max  1.000000  1.04  0.90\n",
       "4    carrier    arrivaldelay      max  1.000000  1.04  0.90\n",
       "5    carrier    arrivaldelay      avg  0.833333  0.89  0.75\n",
       "6    carrier        distance      max  0.833333  0.89  0.75\n",
       "7    carrier        distance      sum  0.888889  0.94  0.80"
      ]
     },
     "execution_count": 102,
     "metadata": {},
     "output_type": "execute_result"
    }
   ],
   "source": [
    "#Creating dataframe of X \n",
    "x_df = pd.DataFrame(X, columns=['Attributes', 'Meassure', 'Function']) \n",
    "# Calculate diversity value of each X to current set S\n",
    "x_df['div'] = x_df[['Attributes', 'Meassure', 'Function']].apply(lambda row: div_compute(row,S), axis=1)\n",
    "# Calculate max and min values of each X\n",
    "x_df['max'] = x_df['div'].apply(lambda row: max_compute(row))\n",
    "x_df['min'] = x_df['div'].apply(lambda row: min_compute(row))\n",
    "x_df.head(8)"
   ]
  },
  {
   "cell_type": "code",
   "execution_count": 103,
   "metadata": {},
   "outputs": [
    {
     "data": {
      "text/plain": [
       "82"
      ]
     },
     "execution_count": 103,
     "metadata": {},
     "output_type": "execute_result"
    }
   ],
   "source": [
    "# is there any rows that minimum value of MAX less than maximum value of MIN? \n",
    "len(x_df)"
   ]
  },
  {
   "cell_type": "code",
   "execution_count": 104,
   "metadata": {},
   "outputs": [
    {
     "data": {
      "text/plain": [
       "0.73999999999999999"
      ]
     },
     "execution_count": 104,
     "metadata": {},
     "output_type": "execute_result"
    }
   ],
   "source": [
    "# Minimum value of Max\n",
    "min(x_df['max'])"
   ]
  },
  {
   "cell_type": "code",
   "execution_count": 105,
   "metadata": {},
   "outputs": [
    {
     "data": {
      "text/plain": [
       "0.90000000000000002"
      ]
     },
     "execution_count": 105,
     "metadata": {},
     "output_type": "execute_result"
    }
   ],
   "source": [
    "# Maximum value of Min\n",
    "max(x_df['min'])"
   ]
  },
  {
   "cell_type": "code",
   "execution_count": 106,
   "metadata": {},
   "outputs": [
    {
     "data": {
      "text/plain": [
       "32"
      ]
     },
     "execution_count": 106,
     "metadata": {},
     "output_type": "execute_result"
    }
   ],
   "source": [
    "new_df = x_df[x_df['max'] < max(x_df['min'])]\n",
    "len(new_df)"
   ]
  },
  {
   "cell_type": "code",
   "execution_count": 107,
   "metadata": {},
   "outputs": [
    {
     "data": {
      "text/plain": [
       "(0.66666666666666663, 1.0)"
      ]
     },
     "execution_count": 107,
     "metadata": {},
     "output_type": "execute_result"
    }
   ],
   "source": [
    "# Minimum and Maximum of diversity value \n",
    "min(x_df['div']), max(x_df['div'])"
   ]
  },
  {
   "cell_type": "markdown",
   "metadata": {},
   "source": [
    "# Superstore Dataset"
   ]
  },
  {
   "cell_type": "code",
   "execution_count": 108,
   "metadata": {
    "collapsed": true
   },
   "outputs": [],
   "source": [
    "xl = pd.ExcelFile(\"superstore_dataset.xlsx\")\n",
    "df = xl.parse(\"Sheet1\", header=0)\n",
    "df_greedy = df.drop(['Utility'],axis=1)\n",
    "dataset = df_greedy.reset_index(drop=True)\n",
    "data = dataset.values.tolist()\n",
    "X = data.copy()\n",
    "S = most_distant_two_views(data)\n",
    "X.remove(S[0])\n",
    "X.remove(S[1])\n",
    "i = len(S)"
   ]
  },
  {
   "cell_type": "code",
   "execution_count": 109,
   "metadata": {},
   "outputs": [
    {
     "data": {
      "text/plain": [
       "['postal_code', 'profit', 'avg']"
      ]
     },
     "execution_count": 109,
     "metadata": {},
     "output_type": "execute_result"
    }
   ],
   "source": [
    "X[0] #Example of X"
   ]
  },
  {
   "cell_type": "code",
   "execution_count": 110,
   "metadata": {},
   "outputs": [
    {
     "data": {
      "text/plain": [
       "[['order_date', 'profit', 'avg'], ['ship_mode', 'sales', 'sum']]"
      ]
     },
     "execution_count": 110,
     "metadata": {},
     "output_type": "execute_result"
    }
   ],
   "source": [
    "S # two most distant views"
   ]
  },
  {
   "cell_type": "code",
   "execution_count": 111,
   "metadata": {},
   "outputs": [
    {
     "data": {
      "text/html": [
       "<div>\n",
       "<style>\n",
       "    .dataframe thead tr:only-child th {\n",
       "        text-align: right;\n",
       "    }\n",
       "\n",
       "    .dataframe thead th {\n",
       "        text-align: left;\n",
       "    }\n",
       "\n",
       "    .dataframe tbody tr th {\n",
       "        vertical-align: top;\n",
       "    }\n",
       "</style>\n",
       "<table border=\"1\" class=\"dataframe\">\n",
       "  <thead>\n",
       "    <tr style=\"text-align: right;\">\n",
       "      <th></th>\n",
       "      <th>Attributes</th>\n",
       "      <th>Meassure</th>\n",
       "      <th>Function</th>\n",
       "      <th>div</th>\n",
       "      <th>max</th>\n",
       "      <th>min</th>\n",
       "    </tr>\n",
       "  </thead>\n",
       "  <tbody>\n",
       "    <tr>\n",
       "      <th>0</th>\n",
       "      <td>postal_code</td>\n",
       "      <td>profit</td>\n",
       "      <td>avg</td>\n",
       "      <td>1.000000</td>\n",
       "      <td>1.04</td>\n",
       "      <td>0.90</td>\n",
       "    </tr>\n",
       "    <tr>\n",
       "      <th>1</th>\n",
       "      <td>order_date</td>\n",
       "      <td>profit</td>\n",
       "      <td>sum</td>\n",
       "      <td>0.777778</td>\n",
       "      <td>0.84</td>\n",
       "      <td>0.70</td>\n",
       "    </tr>\n",
       "    <tr>\n",
       "      <th>2</th>\n",
       "      <td>ship_date</td>\n",
       "      <td>profit</td>\n",
       "      <td>sum</td>\n",
       "      <td>0.944444</td>\n",
       "      <td>0.99</td>\n",
       "      <td>0.85</td>\n",
       "    </tr>\n",
       "    <tr>\n",
       "      <th>3</th>\n",
       "      <td>customer_name</td>\n",
       "      <td>profit</td>\n",
       "      <td>sum</td>\n",
       "      <td>0.944444</td>\n",
       "      <td>0.99</td>\n",
       "      <td>0.85</td>\n",
       "    </tr>\n",
       "    <tr>\n",
       "      <th>4</th>\n",
       "      <td>ship_date</td>\n",
       "      <td>profit</td>\n",
       "      <td>avg</td>\n",
       "      <td>1.000000</td>\n",
       "      <td>1.04</td>\n",
       "      <td>0.90</td>\n",
       "    </tr>\n",
       "    <tr>\n",
       "      <th>5</th>\n",
       "      <td>customer_name</td>\n",
       "      <td>profit</td>\n",
       "      <td>avg</td>\n",
       "      <td>0.944444</td>\n",
       "      <td>0.99</td>\n",
       "      <td>0.85</td>\n",
       "    </tr>\n",
       "    <tr>\n",
       "      <th>6</th>\n",
       "      <td>city</td>\n",
       "      <td>profit</td>\n",
       "      <td>avg</td>\n",
       "      <td>1.000000</td>\n",
       "      <td>1.04</td>\n",
       "      <td>0.90</td>\n",
       "    </tr>\n",
       "    <tr>\n",
       "      <th>7</th>\n",
       "      <td>product_name</td>\n",
       "      <td>profit</td>\n",
       "      <td>avg</td>\n",
       "      <td>0.888889</td>\n",
       "      <td>0.94</td>\n",
       "      <td>0.80</td>\n",
       "    </tr>\n",
       "  </tbody>\n",
       "</table>\n",
       "</div>"
      ],
      "text/plain": [
       "      Attributes Meassure Function       div   max   min\n",
       "0    postal_code   profit      avg  1.000000  1.04  0.90\n",
       "1     order_date   profit      sum  0.777778  0.84  0.70\n",
       "2      ship_date   profit      sum  0.944444  0.99  0.85\n",
       "3  customer_name   profit      sum  0.944444  0.99  0.85\n",
       "4      ship_date   profit      avg  1.000000  1.04  0.90\n",
       "5  customer_name   profit      avg  0.944444  0.99  0.85\n",
       "6           city   profit      avg  1.000000  1.04  0.90\n",
       "7   product_name   profit      avg  0.888889  0.94  0.80"
      ]
     },
     "execution_count": 111,
     "metadata": {},
     "output_type": "execute_result"
    }
   ],
   "source": [
    "#Creating dataframe of X \n",
    "x_df = pd.DataFrame(X, columns=['Attributes', 'Meassure', 'Function']) \n",
    "# Calculate diversity value of each X to current set S\n",
    "x_df['div'] = x_df[['Attributes', 'Meassure', 'Function']].apply(lambda row: div_compute(row,S), axis=1)\n",
    "# Calculate max and min values of each X\n",
    "x_df['max'] = x_df['div'].apply(lambda row: max_compute(row))\n",
    "x_df['min'] = x_df['div'].apply(lambda row: min_compute(row))\n",
    "x_df.head(8)"
   ]
  },
  {
   "cell_type": "code",
   "execution_count": 112,
   "metadata": {
    "collapsed": true
   },
   "outputs": [],
   "source": [
    "# is there any rows that minimum value of MAX less than maximum value of MIN? "
   ]
  },
  {
   "cell_type": "code",
   "execution_count": 113,
   "metadata": {},
   "outputs": [
    {
     "data": {
      "text/plain": [
       "0.73999999999999999"
      ]
     },
     "execution_count": 113,
     "metadata": {},
     "output_type": "execute_result"
    }
   ],
   "source": [
    "# Minimum value of Max\n",
    "min(x_df['max'])"
   ]
  },
  {
   "cell_type": "code",
   "execution_count": 114,
   "metadata": {},
   "outputs": [
    {
     "data": {
      "text/plain": [
       "154"
      ]
     },
     "execution_count": 114,
     "metadata": {},
     "output_type": "execute_result"
    }
   ],
   "source": [
    "len(x_df)"
   ]
  },
  {
   "cell_type": "code",
   "execution_count": 115,
   "metadata": {},
   "outputs": [
    {
     "data": {
      "text/plain": [
       "0.90000000000000002"
      ]
     },
     "execution_count": 115,
     "metadata": {},
     "output_type": "execute_result"
    }
   ],
   "source": [
    "# Maximum value of Min\n",
    "max(x_df['min'])"
   ]
  },
  {
   "cell_type": "code",
   "execution_count": 116,
   "metadata": {},
   "outputs": [
    {
     "data": {
      "text/plain": [
       "26"
      ]
     },
     "execution_count": 116,
     "metadata": {},
     "output_type": "execute_result"
    }
   ],
   "source": [
    "new_df = x_df[x_df['max'] < max(x_df['min'])]\n",
    "len(new_df)"
   ]
  },
  {
   "cell_type": "code",
   "execution_count": 117,
   "metadata": {},
   "outputs": [
    {
     "data": {
      "text/plain": [
       "(0.66666666666666663, 1.0)"
      ]
     },
     "execution_count": 117,
     "metadata": {},
     "output_type": "execute_result"
    }
   ],
   "source": [
    "# Minimum and Maximum of diversity value \n",
    "min(x_df['div']), max(x_df['div'])"
   ]
  },
  {
   "cell_type": "markdown",
   "metadata": {},
   "source": [
    "# Heart Dataset"
   ]
  },
  {
   "cell_type": "code",
   "execution_count": 118,
   "metadata": {
    "collapsed": true
   },
   "outputs": [],
   "source": [
    "xl = pd.ExcelFile(\"heart_dataset.xlsx\")\n",
    "df = xl.parse(\"Sheet1\", header=0)\n",
    "df_greedy = df.drop(['Utility'],axis=1)\n",
    "dataset = df_greedy.reset_index(drop=True)\n",
    "data = dataset.values.tolist()\n",
    "X = data.copy()\n",
    "S = most_distant_two_views(data)\n",
    "X.remove(S[0])\n",
    "X.remove(S[1])\n",
    "i = len(S)"
   ]
  },
  {
   "cell_type": "code",
   "execution_count": 119,
   "metadata": {},
   "outputs": [
    {
     "data": {
      "text/plain": [
       "['thal', 'oldpeak', 'sum']"
      ]
     },
     "execution_count": 119,
     "metadata": {},
     "output_type": "execute_result"
    }
   ],
   "source": [
    "X[0] #Example of X"
   ]
  },
  {
   "cell_type": "code",
   "execution_count": 120,
   "metadata": {},
   "outputs": [
    {
     "data": {
      "text/plain": [
       "[['cp', 'oldpeak', 'sum'], ['restecg', 'chol', 'max']]"
      ]
     },
     "execution_count": 120,
     "metadata": {},
     "output_type": "execute_result"
    }
   ],
   "source": [
    "S # two most distant views"
   ]
  },
  {
   "cell_type": "code",
   "execution_count": 121,
   "metadata": {},
   "outputs": [
    {
     "data": {
      "text/html": [
       "<div>\n",
       "<style>\n",
       "    .dataframe thead tr:only-child th {\n",
       "        text-align: right;\n",
       "    }\n",
       "\n",
       "    .dataframe thead th {\n",
       "        text-align: left;\n",
       "    }\n",
       "\n",
       "    .dataframe tbody tr th {\n",
       "        vertical-align: top;\n",
       "    }\n",
       "</style>\n",
       "<table border=\"1\" class=\"dataframe\">\n",
       "  <thead>\n",
       "    <tr style=\"text-align: right;\">\n",
       "      <th></th>\n",
       "      <th>Attributes</th>\n",
       "      <th>Meassure</th>\n",
       "      <th>Function</th>\n",
       "      <th>div</th>\n",
       "      <th>max</th>\n",
       "      <th>min</th>\n",
       "    </tr>\n",
       "  </thead>\n",
       "  <tbody>\n",
       "    <tr>\n",
       "      <th>0</th>\n",
       "      <td>thal</td>\n",
       "      <td>oldpeak</td>\n",
       "      <td>sum</td>\n",
       "      <td>0.888889</td>\n",
       "      <td>0.94</td>\n",
       "      <td>0.80</td>\n",
       "    </tr>\n",
       "    <tr>\n",
       "      <th>1</th>\n",
       "      <td>thal</td>\n",
       "      <td>restbp</td>\n",
       "      <td>sum</td>\n",
       "      <td>1.000000</td>\n",
       "      <td>1.04</td>\n",
       "      <td>0.90</td>\n",
       "    </tr>\n",
       "    <tr>\n",
       "      <th>2</th>\n",
       "      <td>thal</td>\n",
       "      <td>thalach</td>\n",
       "      <td>sum</td>\n",
       "      <td>1.000000</td>\n",
       "      <td>1.04</td>\n",
       "      <td>0.90</td>\n",
       "    </tr>\n",
       "    <tr>\n",
       "      <th>3</th>\n",
       "      <td>thal</td>\n",
       "      <td>chol</td>\n",
       "      <td>sum</td>\n",
       "      <td>1.000000</td>\n",
       "      <td>1.04</td>\n",
       "      <td>0.90</td>\n",
       "    </tr>\n",
       "    <tr>\n",
       "      <th>4</th>\n",
       "      <td>cp</td>\n",
       "      <td>chol</td>\n",
       "      <td>sum</td>\n",
       "      <td>0.833333</td>\n",
       "      <td>0.89</td>\n",
       "      <td>0.75</td>\n",
       "    </tr>\n",
       "    <tr>\n",
       "      <th>5</th>\n",
       "      <td>cp</td>\n",
       "      <td>restbp</td>\n",
       "      <td>sum</td>\n",
       "      <td>0.833333</td>\n",
       "      <td>0.89</td>\n",
       "      <td>0.75</td>\n",
       "    </tr>\n",
       "    <tr>\n",
       "      <th>6</th>\n",
       "      <td>thal</td>\n",
       "      <td>age</td>\n",
       "      <td>sum</td>\n",
       "      <td>1.000000</td>\n",
       "      <td>1.04</td>\n",
       "      <td>0.90</td>\n",
       "    </tr>\n",
       "    <tr>\n",
       "      <th>7</th>\n",
       "      <td>cp</td>\n",
       "      <td>thalach</td>\n",
       "      <td>sum</td>\n",
       "      <td>0.833333</td>\n",
       "      <td>0.89</td>\n",
       "      <td>0.75</td>\n",
       "    </tr>\n",
       "  </tbody>\n",
       "</table>\n",
       "</div>"
      ],
      "text/plain": [
       "  Attributes Meassure Function       div   max   min\n",
       "0       thal  oldpeak      sum  0.888889  0.94  0.80\n",
       "1       thal   restbp      sum  1.000000  1.04  0.90\n",
       "2       thal  thalach      sum  1.000000  1.04  0.90\n",
       "3       thal     chol      sum  1.000000  1.04  0.90\n",
       "4         cp     chol      sum  0.833333  0.89  0.75\n",
       "5         cp   restbp      sum  0.833333  0.89  0.75\n",
       "6       thal      age      sum  1.000000  1.04  0.90\n",
       "7         cp  thalach      sum  0.833333  0.89  0.75"
      ]
     },
     "execution_count": 121,
     "metadata": {},
     "output_type": "execute_result"
    }
   ],
   "source": [
    "#Creating dataframe of X \n",
    "x_df = pd.DataFrame(X, columns=['Attributes', 'Meassure', 'Function']) \n",
    "# Calculate diversity value of each X to current set S\n",
    "x_df['div'] = x_df[['Attributes', 'Meassure', 'Function']].apply(lambda row: div_compute(row,S), axis=1)\n",
    "# Calculate max and min values of each X\n",
    "x_df['max'] = x_df['div'].apply(lambda row: max_compute(row))\n",
    "x_df['min'] = x_df['div'].apply(lambda row: min_compute(row))\n",
    "x_df.head(8)"
   ]
  },
  {
   "cell_type": "code",
   "execution_count": 122,
   "metadata": {},
   "outputs": [
    {
     "data": {
      "text/plain": [
       "103"
      ]
     },
     "execution_count": 122,
     "metadata": {},
     "output_type": "execute_result"
    }
   ],
   "source": [
    "# is there any rows that minimum value of MAX less than maximum value of MIN? \n",
    "len(x_df)"
   ]
  },
  {
   "cell_type": "code",
   "execution_count": 123,
   "metadata": {},
   "outputs": [
    {
     "data": {
      "text/plain": [
       "0.73999999999999999"
      ]
     },
     "execution_count": 123,
     "metadata": {},
     "output_type": "execute_result"
    }
   ],
   "source": [
    "# Minimum value of Max\n",
    "min(x_df['max'])"
   ]
  },
  {
   "cell_type": "code",
   "execution_count": 124,
   "metadata": {},
   "outputs": [
    {
     "data": {
      "text/plain": [
       "0.90000000000000002"
      ]
     },
     "execution_count": 124,
     "metadata": {},
     "output_type": "execute_result"
    }
   ],
   "source": [
    "# Maximum value of Min\n",
    "max(x_df['min'])"
   ]
  },
  {
   "cell_type": "code",
   "execution_count": 125,
   "metadata": {},
   "outputs": [
    {
     "data": {
      "text/plain": [
       "22"
      ]
     },
     "execution_count": 125,
     "metadata": {},
     "output_type": "execute_result"
    }
   ],
   "source": [
    "new_df = x_df[x_df['max'] < max(x_df['min'])]\n",
    "len(new_df)"
   ]
  },
  {
   "cell_type": "code",
   "execution_count": 126,
   "metadata": {},
   "outputs": [
    {
     "data": {
      "text/plain": [
       "(0.66666666666666663, 1.0)"
      ]
     },
     "execution_count": 126,
     "metadata": {},
     "output_type": "execute_result"
    }
   ],
   "source": [
    "# Minimum and Maximum of diversity value \n",
    "min(x_df['div']), max(x_df['div'])"
   ]
  },
  {
   "cell_type": "code",
   "execution_count": 127,
   "metadata": {},
   "outputs": [
    {
     "data": {
      "text/plain": [
       "103"
      ]
     },
     "execution_count": 127,
     "metadata": {},
     "output_type": "execute_result"
    }
   ],
   "source": [
    "len(X)"
   ]
  },
  {
   "cell_type": "code",
   "execution_count": null,
   "metadata": {
    "collapsed": true
   },
   "outputs": [],
   "source": []
  },
  {
   "cell_type": "code",
   "execution_count": null,
   "metadata": {
    "collapsed": true
   },
   "outputs": [],
   "source": []
  }
 ],
 "metadata": {
  "kernelspec": {
   "display_name": "Python 3",
   "language": "python",
   "name": "python3"
  },
  "language_info": {
   "codemirror_mode": {
    "name": "ipython",
    "version": 3
   },
   "file_extension": ".py",
   "mimetype": "text/x-python",
   "name": "python",
   "nbconvert_exporter": "python",
   "pygments_lexer": "ipython3",
   "version": "3.6.3"
  }
 },
 "nbformat": 4,
 "nbformat_minor": 2
}
