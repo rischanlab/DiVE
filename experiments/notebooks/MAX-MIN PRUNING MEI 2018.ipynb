{
 "cells": [
  {
   "cell_type": "code",
   "execution_count": 2,
   "metadata": {},
   "outputs": [
    {
     "data": {
      "text/html": [
       "<div>\n",
       "<style>\n",
       "    .dataframe thead tr:only-child th {\n",
       "        text-align: right;\n",
       "    }\n",
       "\n",
       "    .dataframe thead th {\n",
       "        text-align: left;\n",
       "    }\n",
       "\n",
       "    .dataframe tbody tr th {\n",
       "        vertical-align: top;\n",
       "    }\n",
       "</style>\n",
       "<table border=\"1\" class=\"dataframe\">\n",
       "  <thead>\n",
       "    <tr style=\"text-align: right;\">\n",
       "      <th></th>\n",
       "      <th>Attributes</th>\n",
       "      <th>Meassure</th>\n",
       "      <th>Function</th>\n",
       "      <th>Utility</th>\n",
       "    </tr>\n",
       "  </thead>\n",
       "  <tbody>\n",
       "    <tr>\n",
       "      <th>0</th>\n",
       "      <td>carrier</td>\n",
       "      <td>arrivaldelay</td>\n",
       "      <td>SUM</td>\n",
       "      <td>0.094380</td>\n",
       "    </tr>\n",
       "    <tr>\n",
       "      <th>1</th>\n",
       "      <td>carrier</td>\n",
       "      <td>arrivaldelay</td>\n",
       "      <td>AVG</td>\n",
       "      <td>0.237981</td>\n",
       "    </tr>\n",
       "    <tr>\n",
       "      <th>2</th>\n",
       "      <td>carrier</td>\n",
       "      <td>arrivaldelay</td>\n",
       "      <td>MIN</td>\n",
       "      <td>0.240287</td>\n",
       "    </tr>\n",
       "    <tr>\n",
       "      <th>3</th>\n",
       "      <td>carrier</td>\n",
       "      <td>arrivaldelay</td>\n",
       "      <td>MAX</td>\n",
       "      <td>0.171546</td>\n",
       "    </tr>\n",
       "    <tr>\n",
       "      <th>4</th>\n",
       "      <td>carrier</td>\n",
       "      <td>arrivaldelay</td>\n",
       "      <td>STD</td>\n",
       "      <td>0.380604</td>\n",
       "    </tr>\n",
       "  </tbody>\n",
       "</table>\n",
       "</div>"
      ],
      "text/plain": [
       "  Attributes      Meassure Function   Utility\n",
       "0    carrier  arrivaldelay      SUM  0.094380\n",
       "1    carrier  arrivaldelay      AVG  0.237981\n",
       "2    carrier  arrivaldelay      MIN  0.240287\n",
       "3    carrier  arrivaldelay      MAX  0.171546\n",
       "4    carrier  arrivaldelay      STD  0.380604"
      ]
     },
     "execution_count": 2,
     "metadata": {},
     "output_type": "execute_result"
    }
   ],
   "source": [
    "# import libraries\n",
    "import pandas as pd \n",
    "from itertools import product\n",
    "import numpy as np\n",
    "import math\n",
    "\n",
    "A= ['carrier', 'origin', 'destination'] \n",
    "M= ['arrivaldelay', 'departurdelay', 'weatherdelay']\n",
    "F= ['SUM', 'AVG', 'MIN', 'MAX', 'STD']\n",
    "\n",
    "df = pd.DataFrame(list(product(A,M,F)), columns=['Attributes', 'Meassure', 'Function'])\n",
    "df['Utility'] = np.random.uniform(0, 0.5, df.shape[0])\n",
    "df.head()"
   ]
  },
  {
   "cell_type": "code",
   "execution_count": 53,
   "metadata": {
    "collapsed": true
   },
   "outputs": [],
   "source": [
    "def diversity(a,b):\n",
    "    la = list(a)\n",
    "    lb = list(b)\n",
    "    v1 = get_value_d(la[0],lb[0])\n",
    "    v2 = get_value_d(la[1],lb[1])\n",
    "    v3 = get_value_d(la[2],lb[2])\n",
    "    res = float((((v1*3)+(v2*2)+(v3*1))/3)/2)\n",
    "    return res\n",
    "    \n",
    "def get_value_d(attr1, attr2):\n",
    "    if (attr1) == (attr2):\n",
    "        d = 0.0\n",
    "    else:\n",
    "        d = 1.0\n",
    "    return d\n",
    "\n",
    "def most_distant_two_views(data):\n",
    "    max_distance = 0\n",
    "    result = []\n",
    "    for i in range(0,len(data)):\n",
    "        for j in range(0,len(data)):\n",
    "            d = diversity(data[i],data[j])\n",
    "            if d > max_distance:\n",
    "                max_distance = d\n",
    "                result = [data[i],data[j]]\n",
    "    return result\n",
    "\n",
    "def div_compute(item, S_list):\n",
    "    S_new = S_list.copy()\n",
    "    S_new.append(item)\n",
    "    k = len(S_new)\n",
    "    new_series = pd.Series(S_new)\n",
    "    series_set = new_series.apply(lambda row: set(row))\n",
    "    new_df = series_set.apply(lambda a: series_set.apply(lambda b: diversity(a,b)))\n",
    "    new_df['tot'] = new_df.sum(axis=1)\n",
    "    div = (sum(new_df['tot'])/2)/(k*(k-1))\n",
    "    return div\n",
    "\n",
    "def max_compute(div, tradeoff=0.9):\n",
    "    #max_i = math.sqrt(2)\n",
    "    util = 0.860600865818768\n",
    "    util = util\n",
    "    objf = ((1-tradeoff)*util)+(tradeoff*div)\n",
    "    return objf\n",
    "\n",
    "def min_compute(div, tradeoff=0.9):\n",
    "    util = 0.0\n",
    "    objf = ((1-tradeoff)*util)+(tradeoff*div)\n",
    "    return objf\n",
    "\n",
    "# Heart disease X = 68\n",
    "# hypothetical 0.8 = 12, 0.9 = 38 0.7 = 0, 1.0 = 47\n",
    "# Static max bound 0.9 = 2, 1.0 = 47\n",
    "\n",
    "#Pi 80 0.7 = 2, 0.8 = 16, 0.9 = 38, 1.0 = 47"
   ]
  },
  {
   "cell_type": "markdown",
   "metadata": {},
   "source": [
    "# First Iteration with Actual Bound"
   ]
  },
  {
   "cell_type": "code",
   "execution_count": 54,
   "metadata": {},
   "outputs": [],
   "source": [
    "xl = pd.ExcelFile(\"disease.xlsx\")\n",
    "df = xl.parse(\"Sheet1\", header=0)"
   ]
  },
  {
   "cell_type": "code",
   "execution_count": 55,
   "metadata": {},
   "outputs": [
    {
     "data": {
      "text/plain": [
       "0.86060086581876793"
      ]
     },
     "execution_count": 55,
     "metadata": {},
     "output_type": "execute_result"
    }
   ],
   "source": [
    "max_util = max(df['Utility'])\n",
    "max_util"
   ]
  },
  {
   "cell_type": "code",
   "execution_count": 56,
   "metadata": {
    "collapsed": true
   },
   "outputs": [],
   "source": [
    "df_greedy = df.drop(['Utility'],axis=1)\n",
    "dataset = df_greedy.reset_index(drop=True)\n",
    "data = dataset.values.tolist()\n",
    "X = data.copy()\n",
    "S = most_distant_two_views(data)\n",
    "X.remove(S[0])\n",
    "X.remove(S[1])\n",
    "i = len(S)"
   ]
  },
  {
   "cell_type": "code",
   "execution_count": 57,
   "metadata": {},
   "outputs": [
    {
     "data": {
      "text/plain": [
       "['exang', 'age', 'max']"
      ]
     },
     "execution_count": 57,
     "metadata": {},
     "output_type": "execute_result"
    }
   ],
   "source": [
    "X[0] #Example of X"
   ]
  },
  {
   "cell_type": "code",
   "execution_count": 58,
   "metadata": {},
   "outputs": [
    {
     "data": {
      "text/plain": [
       "[['exang', 'age', 'sum'], ['fbs', 'chol', 'variance']]"
      ]
     },
     "execution_count": 58,
     "metadata": {},
     "output_type": "execute_result"
    }
   ],
   "source": [
    "S # two most distant views"
   ]
  },
  {
   "cell_type": "code",
   "execution_count": 59,
   "metadata": {},
   "outputs": [
    {
     "data": {
      "text/html": [
       "<div>\n",
       "<style>\n",
       "    .dataframe thead tr:only-child th {\n",
       "        text-align: right;\n",
       "    }\n",
       "\n",
       "    .dataframe thead th {\n",
       "        text-align: left;\n",
       "    }\n",
       "\n",
       "    .dataframe tbody tr th {\n",
       "        vertical-align: top;\n",
       "    }\n",
       "</style>\n",
       "<table border=\"1\" class=\"dataframe\">\n",
       "  <thead>\n",
       "    <tr style=\"text-align: right;\">\n",
       "      <th></th>\n",
       "      <th>Attributes</th>\n",
       "      <th>Meassure</th>\n",
       "      <th>Function</th>\n",
       "      <th>div</th>\n",
       "      <th>Umax</th>\n",
       "      <th>Umin</th>\n",
       "    </tr>\n",
       "  </thead>\n",
       "  <tbody>\n",
       "    <tr>\n",
       "      <th>0</th>\n",
       "      <td>exang</td>\n",
       "      <td>age</td>\n",
       "      <td>max</td>\n",
       "      <td>0.500000</td>\n",
       "      <td>0.53606</td>\n",
       "      <td>0.450</td>\n",
       "    </tr>\n",
       "    <tr>\n",
       "      <th>1</th>\n",
       "      <td>exang</td>\n",
       "      <td>age</td>\n",
       "      <td>variance</td>\n",
       "      <td>0.416667</td>\n",
       "      <td>0.46106</td>\n",
       "      <td>0.375</td>\n",
       "    </tr>\n",
       "    <tr>\n",
       "      <th>2</th>\n",
       "      <td>exang</td>\n",
       "      <td>age</td>\n",
       "      <td>avg</td>\n",
       "      <td>0.500000</td>\n",
       "      <td>0.53606</td>\n",
       "      <td>0.450</td>\n",
       "    </tr>\n",
       "    <tr>\n",
       "      <th>3</th>\n",
       "      <td>exang</td>\n",
       "      <td>age</td>\n",
       "      <td>stddev</td>\n",
       "      <td>0.416667</td>\n",
       "      <td>0.46106</td>\n",
       "      <td>0.375</td>\n",
       "    </tr>\n",
       "    <tr>\n",
       "      <th>4</th>\n",
       "      <td>fbs</td>\n",
       "      <td>age</td>\n",
       "      <td>variance</td>\n",
       "      <td>0.333333</td>\n",
       "      <td>0.38606</td>\n",
       "      <td>0.300</td>\n",
       "    </tr>\n",
       "    <tr>\n",
       "      <th>5</th>\n",
       "      <td>fbs</td>\n",
       "      <td>age</td>\n",
       "      <td>sum</td>\n",
       "      <td>0.472222</td>\n",
       "      <td>0.51106</td>\n",
       "      <td>0.425</td>\n",
       "    </tr>\n",
       "    <tr>\n",
       "      <th>6</th>\n",
       "      <td>fbs</td>\n",
       "      <td>age</td>\n",
       "      <td>stddev</td>\n",
       "      <td>0.416667</td>\n",
       "      <td>0.46106</td>\n",
       "      <td>0.375</td>\n",
       "    </tr>\n",
       "    <tr>\n",
       "      <th>7</th>\n",
       "      <td>fbs</td>\n",
       "      <td>age</td>\n",
       "      <td>max</td>\n",
       "      <td>0.416667</td>\n",
       "      <td>0.46106</td>\n",
       "      <td>0.375</td>\n",
       "    </tr>\n",
       "  </tbody>\n",
       "</table>\n",
       "</div>"
      ],
      "text/plain": [
       "  Attributes Meassure  Function       div     Umax   Umin\n",
       "0      exang      age       max  0.500000  0.53606  0.450\n",
       "1      exang      age  variance  0.416667  0.46106  0.375\n",
       "2      exang      age       avg  0.500000  0.53606  0.450\n",
       "3      exang      age    stddev  0.416667  0.46106  0.375\n",
       "4        fbs      age  variance  0.333333  0.38606  0.300\n",
       "5        fbs      age       sum  0.472222  0.51106  0.425\n",
       "6        fbs      age    stddev  0.416667  0.46106  0.375\n",
       "7        fbs      age       max  0.416667  0.46106  0.375"
      ]
     },
     "execution_count": 59,
     "metadata": {},
     "output_type": "execute_result"
    }
   ],
   "source": [
    "#Creating dataframe of X \n",
    "x_df = pd.DataFrame(X, columns=['Attributes', 'Meassure', 'Function']) \n",
    "# Calculate diversity value of each X to current set S\n",
    "x_df['div'] = x_df[['Attributes', 'Meassure', 'Function']].apply(lambda row: div_compute(row,S), axis=1)\n",
    "# Calculate max and min values of each X\n",
    "x_df['Umax'] = x_df['div'].apply(lambda row: max_compute(row))\n",
    "x_df['Umin'] = x_df['div'].apply(lambda row: min_compute(row))\n",
    "x_df.head(8)"
   ]
  },
  {
   "cell_type": "code",
   "execution_count": 60,
   "metadata": {
    "collapsed": true
   },
   "outputs": [],
   "source": [
    "# is there any rows that minimum value of MAX less than maximum value of MIN? "
   ]
  },
  {
   "cell_type": "code",
   "execution_count": 61,
   "metadata": {},
   "outputs": [
    {
     "data": {
      "text/plain": [
       "0.38606008658187679"
      ]
     },
     "execution_count": 61,
     "metadata": {},
     "output_type": "execute_result"
    }
   ],
   "source": [
    "# Minimum value of Max\n",
    "min(x_df['Umax'])"
   ]
  },
  {
   "cell_type": "code",
   "execution_count": 62,
   "metadata": {},
   "outputs": [
    {
     "data": {
      "text/plain": [
       "0.45000000000000001"
      ]
     },
     "execution_count": 62,
     "metadata": {},
     "output_type": "execute_result"
    }
   ],
   "source": [
    "# Maximum value of Min\n",
    "max(x_df['Umin'])"
   ]
  },
  {
   "cell_type": "code",
   "execution_count": 63,
   "metadata": {},
   "outputs": [
    {
     "data": {
      "text/plain": [
       "16"
      ]
     },
     "execution_count": 63,
     "metadata": {},
     "output_type": "execute_result"
    }
   ],
   "source": [
    "new_df = x_df[x_df['Umax'] < max(x_df['Umin'])]\n",
    "len(new_df)"
   ]
  },
  {
   "cell_type": "code",
   "execution_count": 64,
   "metadata": {},
   "outputs": [
    {
     "data": {
      "text/plain": [
       "(0.33333333333333331, 0.5)"
      ]
     },
     "execution_count": 64,
     "metadata": {},
     "output_type": "execute_result"
    }
   ],
   "source": [
    "# Minimum and Maximum of diversity value \n",
    "min(x_df['div']), max(x_df['div'])"
   ]
  },
  {
   "cell_type": "markdown",
   "metadata": {},
   "source": [
    "# Superstore Dataset"
   ]
  },
  {
   "cell_type": "code",
   "execution_count": 65,
   "metadata": {
    "collapsed": true
   },
   "outputs": [],
   "source": [
    "xl = pd.ExcelFile(\"superstore_results1.xlsx\")\n",
    "df = xl.parse(\"Sheet1\", header=0)\n"
   ]
  },
  {
   "cell_type": "code",
   "execution_count": 66,
   "metadata": {},
   "outputs": [
    {
     "data": {
      "text/plain": [
       "1.4805322859916039"
      ]
     },
     "execution_count": 66,
     "metadata": {},
     "output_type": "execute_result"
    }
   ],
   "source": [
    "max_util = max(df['Utility'])\n",
    "max_util"
   ]
  },
  {
   "cell_type": "code",
   "execution_count": 67,
   "metadata": {
    "collapsed": true
   },
   "outputs": [],
   "source": [
    "df_greedy = df.drop(['Utility'],axis=1)\n",
    "dataset = df_greedy.reset_index(drop=True)\n",
    "data = dataset.values.tolist()\n",
    "X = data.copy()\n",
    "S = most_distant_two_views(data)\n",
    "X.remove(S[0])\n",
    "X.remove(S[1])\n",
    "i = len(S)"
   ]
  },
  {
   "cell_type": "code",
   "execution_count": 230,
   "metadata": {},
   "outputs": [
    {
     "data": {
      "text/plain": [
       "['postal_code', 'profit', 'avg']"
      ]
     },
     "execution_count": 230,
     "metadata": {},
     "output_type": "execute_result"
    }
   ],
   "source": [
    "X[0] #Example of X"
   ]
  },
  {
   "cell_type": "code",
   "execution_count": 231,
   "metadata": {},
   "outputs": [
    {
     "data": {
      "text/plain": [
       "[['order_date', 'profit', 'avg'], ['ship_mode', 'sales', 'sum']]"
      ]
     },
     "execution_count": 231,
     "metadata": {},
     "output_type": "execute_result"
    }
   ],
   "source": [
    "S # two most distant views"
   ]
  },
  {
   "cell_type": "code",
   "execution_count": 232,
   "metadata": {
    "scrolled": true
   },
   "outputs": [
    {
     "data": {
      "text/html": [
       "<div>\n",
       "<style>\n",
       "    .dataframe thead tr:only-child th {\n",
       "        text-align: right;\n",
       "    }\n",
       "\n",
       "    .dataframe thead th {\n",
       "        text-align: left;\n",
       "    }\n",
       "\n",
       "    .dataframe tbody tr th {\n",
       "        vertical-align: top;\n",
       "    }\n",
       "</style>\n",
       "<table border=\"1\" class=\"dataframe\">\n",
       "  <thead>\n",
       "    <tr style=\"text-align: right;\">\n",
       "      <th></th>\n",
       "      <th>Attributes</th>\n",
       "      <th>Meassure</th>\n",
       "      <th>Function</th>\n",
       "      <th>div</th>\n",
       "      <th>max</th>\n",
       "      <th>min</th>\n",
       "    </tr>\n",
       "  </thead>\n",
       "  <tbody>\n",
       "    <tr>\n",
       "      <th>0</th>\n",
       "      <td>postal_code</td>\n",
       "      <td>profit</td>\n",
       "      <td>avg</td>\n",
       "      <td>0.361111</td>\n",
       "      <td>0.379523</td>\n",
       "      <td>0.325</td>\n",
       "    </tr>\n",
       "    <tr>\n",
       "      <th>1</th>\n",
       "      <td>order_date</td>\n",
       "      <td>profit</td>\n",
       "      <td>sum</td>\n",
       "      <td>0.333333</td>\n",
       "      <td>0.354523</td>\n",
       "      <td>0.300</td>\n",
       "    </tr>\n",
       "    <tr>\n",
       "      <th>2</th>\n",
       "      <td>ship_date</td>\n",
       "      <td>profit</td>\n",
       "      <td>sum</td>\n",
       "      <td>0.416667</td>\n",
       "      <td>0.429523</td>\n",
       "      <td>0.375</td>\n",
       "    </tr>\n",
       "    <tr>\n",
       "      <th>3</th>\n",
       "      <td>customer_name</td>\n",
       "      <td>profit</td>\n",
       "      <td>sum</td>\n",
       "      <td>0.416667</td>\n",
       "      <td>0.429523</td>\n",
       "      <td>0.375</td>\n",
       "    </tr>\n",
       "    <tr>\n",
       "      <th>4</th>\n",
       "      <td>ship_date</td>\n",
       "      <td>profit</td>\n",
       "      <td>avg</td>\n",
       "      <td>0.416667</td>\n",
       "      <td>0.429523</td>\n",
       "      <td>0.375</td>\n",
       "    </tr>\n",
       "    <tr>\n",
       "      <th>5</th>\n",
       "      <td>customer_name</td>\n",
       "      <td>profit</td>\n",
       "      <td>avg</td>\n",
       "      <td>0.416667</td>\n",
       "      <td>0.429523</td>\n",
       "      <td>0.375</td>\n",
       "    </tr>\n",
       "    <tr>\n",
       "      <th>6</th>\n",
       "      <td>city</td>\n",
       "      <td>profit</td>\n",
       "      <td>avg</td>\n",
       "      <td>0.416667</td>\n",
       "      <td>0.429523</td>\n",
       "      <td>0.375</td>\n",
       "    </tr>\n",
       "    <tr>\n",
       "      <th>7</th>\n",
       "      <td>product_name</td>\n",
       "      <td>profit</td>\n",
       "      <td>avg</td>\n",
       "      <td>0.361111</td>\n",
       "      <td>0.379523</td>\n",
       "      <td>0.325</td>\n",
       "    </tr>\n",
       "  </tbody>\n",
       "</table>\n",
       "</div>"
      ],
      "text/plain": [
       "      Attributes Meassure Function       div       max    min\n",
       "0    postal_code   profit      avg  0.361111  0.379523  0.325\n",
       "1     order_date   profit      sum  0.333333  0.354523  0.300\n",
       "2      ship_date   profit      sum  0.416667  0.429523  0.375\n",
       "3  customer_name   profit      sum  0.416667  0.429523  0.375\n",
       "4      ship_date   profit      avg  0.416667  0.429523  0.375\n",
       "5  customer_name   profit      avg  0.416667  0.429523  0.375\n",
       "6           city   profit      avg  0.416667  0.429523  0.375\n",
       "7   product_name   profit      avg  0.361111  0.379523  0.325"
      ]
     },
     "execution_count": 232,
     "metadata": {},
     "output_type": "execute_result"
    }
   ],
   "source": [
    "#Creating dataframe of X \n",
    "x_df = pd.DataFrame(X, columns=['Attributes', 'Meassure', 'Function']) \n",
    "# Calculate diversity value of each X to current set S\n",
    "x_df['div'] = x_df[['Attributes', 'Meassure', 'Function']].apply(lambda row: div_compute(row,S), axis=1)\n",
    "# Calculate max and min values of each X\n",
    "x_df['max'] = x_df['div'].apply(lambda row: max_compute(row))\n",
    "x_df['min'] = x_df['div'].apply(lambda row: min_compute(row))\n",
    "x_df.head(8)"
   ]
  },
  {
   "cell_type": "code",
   "execution_count": 233,
   "metadata": {
    "collapsed": true
   },
   "outputs": [],
   "source": [
    "# is there any rows that minimum value of MAX less than maximum value of MIN? "
   ]
  },
  {
   "cell_type": "code",
   "execution_count": 234,
   "metadata": {},
   "outputs": [
    {
     "data": {
      "text/plain": [
       "0.3545228091552402"
      ]
     },
     "execution_count": 234,
     "metadata": {},
     "output_type": "execute_result"
    }
   ],
   "source": [
    "# Minimum value of Max\n",
    "min(x_df['max'])"
   ]
  },
  {
   "cell_type": "code",
   "execution_count": 235,
   "metadata": {},
   "outputs": [
    {
     "data": {
      "text/plain": [
       "0.45000000000000001"
      ]
     },
     "execution_count": 235,
     "metadata": {},
     "output_type": "execute_result"
    }
   ],
   "source": [
    "# Maximum value of Min\n",
    "max(x_df['min'])"
   ]
  },
  {
   "cell_type": "code",
   "execution_count": 236,
   "metadata": {},
   "outputs": [
    {
     "data": {
      "text/plain": [
       "49"
      ]
     },
     "execution_count": 236,
     "metadata": {},
     "output_type": "execute_result"
    }
   ],
   "source": [
    "new_df = x_df[x_df['max'] < max(x_df['min'])]\n",
    "len(new_df)"
   ]
  },
  {
   "cell_type": "code",
   "execution_count": 237,
   "metadata": {},
   "outputs": [
    {
     "data": {
      "text/plain": [
       "(0.33333333333333331, 0.5)"
      ]
     },
     "execution_count": 237,
     "metadata": {},
     "output_type": "execute_result"
    }
   ],
   "source": [
    "# Minimum and Maximum of diversity value \n",
    "min(x_df['div']), max(x_df['div'])"
   ]
  },
  {
   "cell_type": "markdown",
   "metadata": {},
   "source": [
    "# Heart Dataset"
   ]
  },
  {
   "cell_type": "code",
   "execution_count": 427,
   "metadata": {
    "collapsed": true
   },
   "outputs": [],
   "source": [
    "xl = pd.ExcelFile(\"heart_results1.xlsx\")\n",
    "df = xl.parse(\"Sheet1\", header=0)\n"
   ]
  },
  {
   "cell_type": "code",
   "execution_count": 428,
   "metadata": {},
   "outputs": [
    {
     "data": {
      "text/plain": [
       "0.54522809155240204"
      ]
     },
     "execution_count": 428,
     "metadata": {},
     "output_type": "execute_result"
    }
   ],
   "source": [
    "max_util = max(df['Utility'])\n",
    "max_util"
   ]
  },
  {
   "cell_type": "code",
   "execution_count": 429,
   "metadata": {
    "collapsed": true
   },
   "outputs": [],
   "source": [
    "df_greedy = df.drop(['Utility'],axis=1)\n",
    "dataset = df_greedy.reset_index(drop=True)\n",
    "data = dataset.values.tolist()\n",
    "X = data.copy()\n",
    "S = most_distant_two_views(data)\n",
    "X.remove(S[0])\n",
    "X.remove(S[1])\n",
    "i = len(S)"
   ]
  },
  {
   "cell_type": "code",
   "execution_count": 430,
   "metadata": {},
   "outputs": [
    {
     "data": {
      "text/plain": [
       "['restecg', 'oldpeak', 'max']"
      ]
     },
     "execution_count": 430,
     "metadata": {},
     "output_type": "execute_result"
    }
   ],
   "source": [
    "X[0] #Example of X"
   ]
  },
  {
   "cell_type": "code",
   "execution_count": 431,
   "metadata": {},
   "outputs": [
    {
     "data": {
      "text/plain": [
       "[['cp', 'oldpeak', 'avg'], ['restecg', 'chol', 'max']]"
      ]
     },
     "execution_count": 431,
     "metadata": {},
     "output_type": "execute_result"
    }
   ],
   "source": [
    "S # two most distant views"
   ]
  },
  {
   "cell_type": "code",
   "execution_count": 432,
   "metadata": {},
   "outputs": [
    {
     "data": {
      "text/html": [
       "<div>\n",
       "<style>\n",
       "    .dataframe thead tr:only-child th {\n",
       "        text-align: right;\n",
       "    }\n",
       "\n",
       "    .dataframe thead th {\n",
       "        text-align: left;\n",
       "    }\n",
       "\n",
       "    .dataframe tbody tr th {\n",
       "        vertical-align: top;\n",
       "    }\n",
       "</style>\n",
       "<table border=\"1\" class=\"dataframe\">\n",
       "  <thead>\n",
       "    <tr style=\"text-align: right;\">\n",
       "      <th></th>\n",
       "      <th>Attributes</th>\n",
       "      <th>Meassure</th>\n",
       "      <th>Function</th>\n",
       "      <th>div</th>\n",
       "      <th>max</th>\n",
       "      <th>min</th>\n",
       "    </tr>\n",
       "  </thead>\n",
       "  <tbody>\n",
       "    <tr>\n",
       "      <th>0</th>\n",
       "      <td>restecg</td>\n",
       "      <td>oldpeak</td>\n",
       "      <td>max</td>\n",
       "      <td>0.333333</td>\n",
       "      <td>0.333333</td>\n",
       "      <td>0.333333</td>\n",
       "    </tr>\n",
       "    <tr>\n",
       "      <th>1</th>\n",
       "      <td>cp</td>\n",
       "      <td>oldpeak</td>\n",
       "      <td>max</td>\n",
       "      <td>0.472222</td>\n",
       "      <td>0.472222</td>\n",
       "      <td>0.472222</td>\n",
       "    </tr>\n",
       "    <tr>\n",
       "      <th>2</th>\n",
       "      <td>sex</td>\n",
       "      <td>oldpeak</td>\n",
       "      <td>max</td>\n",
       "      <td>0.472222</td>\n",
       "      <td>0.472222</td>\n",
       "      <td>0.472222</td>\n",
       "    </tr>\n",
       "    <tr>\n",
       "      <th>3</th>\n",
       "      <td>exang</td>\n",
       "      <td>oldpeak</td>\n",
       "      <td>avg</td>\n",
       "      <td>0.416667</td>\n",
       "      <td>0.416667</td>\n",
       "      <td>0.416667</td>\n",
       "    </tr>\n",
       "    <tr>\n",
       "      <th>4</th>\n",
       "      <td>thal</td>\n",
       "      <td>oldpeak</td>\n",
       "      <td>avg</td>\n",
       "      <td>0.361111</td>\n",
       "      <td>0.361111</td>\n",
       "      <td>0.361111</td>\n",
       "    </tr>\n",
       "    <tr>\n",
       "      <th>5</th>\n",
       "      <td>thal</td>\n",
       "      <td>oldpeak</td>\n",
       "      <td>max</td>\n",
       "      <td>0.472222</td>\n",
       "      <td>0.472222</td>\n",
       "      <td>0.472222</td>\n",
       "    </tr>\n",
       "    <tr>\n",
       "      <th>6</th>\n",
       "      <td>restecg</td>\n",
       "      <td>oldpeak</td>\n",
       "      <td>avg</td>\n",
       "      <td>0.361111</td>\n",
       "      <td>0.361111</td>\n",
       "      <td>0.361111</td>\n",
       "    </tr>\n",
       "    <tr>\n",
       "      <th>7</th>\n",
       "      <td>restecg</td>\n",
       "      <td>chol</td>\n",
       "      <td>avg</td>\n",
       "      <td>0.361111</td>\n",
       "      <td>0.361111</td>\n",
       "      <td>0.361111</td>\n",
       "    </tr>\n",
       "  </tbody>\n",
       "</table>\n",
       "</div>"
      ],
      "text/plain": [
       "  Attributes Meassure Function       div       max       min\n",
       "0    restecg  oldpeak      max  0.333333  0.333333  0.333333\n",
       "1         cp  oldpeak      max  0.472222  0.472222  0.472222\n",
       "2        sex  oldpeak      max  0.472222  0.472222  0.472222\n",
       "3      exang  oldpeak      avg  0.416667  0.416667  0.416667\n",
       "4       thal  oldpeak      avg  0.361111  0.361111  0.361111\n",
       "5       thal  oldpeak      max  0.472222  0.472222  0.472222\n",
       "6    restecg  oldpeak      avg  0.361111  0.361111  0.361111\n",
       "7    restecg     chol      avg  0.361111  0.361111  0.361111"
      ]
     },
     "execution_count": 432,
     "metadata": {},
     "output_type": "execute_result"
    }
   ],
   "source": [
    "#Creating dataframe of X \n",
    "x_df = pd.DataFrame(X, columns=['Attributes', 'Meassure', 'Function']) \n",
    "# Calculate diversity value of each X to current set S\n",
    "x_df['div'] = x_df[['Attributes', 'Meassure', 'Function']].apply(lambda row: div_compute(row,S), axis=1)\n",
    "# Calculate max and min values of each X\n",
    "x_df['max'] = x_df['div'].apply(lambda row: max_compute(row))\n",
    "x_df['min'] = x_df['div'].apply(lambda row: min_compute(row))\n",
    "x_df.head(8)"
   ]
  },
  {
   "cell_type": "code",
   "execution_count": 433,
   "metadata": {
    "collapsed": true
   },
   "outputs": [],
   "source": [
    "# is there any rows that minimum value of MAX less than maximum value of MIN? "
   ]
  },
  {
   "cell_type": "code",
   "execution_count": 434,
   "metadata": {},
   "outputs": [
    {
     "data": {
      "text/plain": [
       "0.33333333333333331"
      ]
     },
     "execution_count": 434,
     "metadata": {},
     "output_type": "execute_result"
    }
   ],
   "source": [
    "# Minimum value of Max\n",
    "min(x_df['max'])"
   ]
  },
  {
   "cell_type": "code",
   "execution_count": 435,
   "metadata": {},
   "outputs": [
    {
     "data": {
      "text/plain": [
       "0.5"
      ]
     },
     "execution_count": 435,
     "metadata": {},
     "output_type": "execute_result"
    }
   ],
   "source": [
    "# Maximum value of Min\n",
    "max(x_df['min'])"
   ]
  },
  {
   "cell_type": "code",
   "execution_count": 436,
   "metadata": {},
   "outputs": [
    {
     "data": {
      "text/plain": [
       "47"
      ]
     },
     "execution_count": 436,
     "metadata": {},
     "output_type": "execute_result"
    }
   ],
   "source": [
    "new_df = x_df[x_df['max'] < max(x_df['min'])]\n",
    "len(new_df)"
   ]
  },
  {
   "cell_type": "code",
   "execution_count": 412,
   "metadata": {},
   "outputs": [
    {
     "data": {
      "text/plain": [
       "(0.33333333333333331, 0.5)"
      ]
     },
     "execution_count": 412,
     "metadata": {},
     "output_type": "execute_result"
    }
   ],
   "source": [
    "# Minimum and Maximum of diversity value \n",
    "min(x_df['div']), max(x_df['div'])"
   ]
  },
  {
   "cell_type": "code",
   "execution_count": 413,
   "metadata": {},
   "outputs": [
    {
     "data": {
      "text/plain": [
       "68"
      ]
     },
     "execution_count": 413,
     "metadata": {},
     "output_type": "execute_result"
    }
   ],
   "source": [
    "len(X)"
   ]
  },
  {
   "cell_type": "code",
   "execution_count": null,
   "metadata": {
    "collapsed": true
   },
   "outputs": [],
   "source": []
  },
  {
   "cell_type": "code",
   "execution_count": null,
   "metadata": {
    "collapsed": true
   },
   "outputs": [],
   "source": []
  }
 ],
 "metadata": {
  "kernelspec": {
   "display_name": "Python 3",
   "language": "python",
   "name": "python3"
  },
  "language_info": {
   "codemirror_mode": {
    "name": "ipython",
    "version": 3
   },
   "file_extension": ".py",
   "mimetype": "text/x-python",
   "name": "python",
   "nbconvert_exporter": "python",
   "pygments_lexer": "ipython3",
   "version": "3.6.3"
  }
 },
 "nbformat": 4,
 "nbformat_minor": 2
}
